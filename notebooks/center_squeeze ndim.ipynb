{
 "cells": [
  {
   "cell_type": "code",
   "execution_count": null,
   "metadata": {},
   "outputs": [],
   "source": [
    "import math\n",
    "import numpy as np\n",
    "import tomlkit\n",
    "import pandas as pd\n",
    "import yaml\n",
    "from IPython.display import display\n",
    "import importlib\n",
    "import copy\n",
    "import awkward as ak\n",
    "import seaborn as sns\n",
    "sns.set_theme()\n",
    "import matplotlib\n",
    "import matplotlib.pyplot as plt\n",
    "import os\n",
    "from pathlib import Path\n",
    "\n",
    "import study_lib"
   ]
  },
  {
   "cell_type": "code",
   "execution_count": null,
   "metadata": {},
   "outputs": [],
   "source": [
    "importlib.reload(study_lib)\n",
    "do_run = study_lib.do_run \n",
    "run_experiment = study_lib.run_experiment\n",
    "config_series = study_lib.config_series"
   ]
  },
  {
   "cell_type": "code",
   "execution_count": null,
   "metadata": {},
   "outputs": [],
   "source": [
    "base_config_yaml = f\"\"\"\n",
    "candidates: 9\n",
    "voters: 1001\n",
    "considerations:\n",
    "- Issues:\n",
    "    - halfcsep: 0.\n",
    "      halfvsep: 0.\n",
    "      sigma: 1.\n",
    "      sigma_vtr: 2.\n",
    "    - halfcsep: 0.\n",
    "      halfvsep: 0.\n",
    "      sigma: 1.\n",
    "      sigma_vtr: 2.\n",
    "methods:\n",
    "- Plurality:\n",
    "    strat: Honest\n",
    "- Plurality:\n",
    "    strat: Strategic\n",
    "- InstantRunoff: {{}}\n",
    "- Range:\n",
    "    nranks: 2\n",
    "    strat: Honest\n",
    "- Range:\n",
    "    nranks: 2\n",
    "    strat: Strategic\n",
    "- STAR:\n",
    "    strat: Honest\n",
    "- STAR:\n",
    "    strat: Strategic\n",
    "    strategic_stretch_factor: 2.0\n",
    "- BtrIrv:\n",
    "    strat: Honest\n",
    "- RP:\n",
    "    strat: Honest\n",
    "- MM:\n",
    "    strat: Honest\n",
    "\"\"\"\n",
    "base_config = yaml.safe_load(base_config_yaml)"
   ]
  },
  {
   "cell_type": "code",
   "execution_count": null,
   "metadata": {},
   "outputs": [],
   "source": [
    "sfopts = dict(bbox_inches='tight', transparent=False)"
   ]
  },
  {
   "cell_type": "code",
   "execution_count": null,
   "metadata": {},
   "outputs": [],
   "source": [
    "config = copy.deepcopy(base_config)\n",
    "df = run_experiment(config_series(config, 'candidates', [3, 5, 8, 13]), trials=50000,\n",
    "                      with_results=True, show_output=False)\n",
    "results = df.attrs[\"results\"]\n",
    "df"
   ]
  },
  {
   "cell_type": "code",
   "execution_count": null,
   "metadata": {},
   "outputs": [],
   "source": [
    "# rslt_5c = do_run(base_config, 10000)\n",
    "(rslt_2c, rslt_3c, rslt_5c, rslt_8c) = results"
   ]
  },
  {
   "cell_type": "code",
   "execution_count": null,
   "metadata": {},
   "outputs": [],
   "source": [
    "need_cols = ['issues', 'num_smith', 'in_smith', 'methods']  # not using cov_matrix, ideal_cand, or cand_regret for memory savings\n",
    "rslt_9c = ak.from_parquet('ctr_sqz_2d_9c.parquet', columns=need_cols)\n",
    "# rslt_5c = ak.from_parquet('ctr_sqz_2d_5c.parquet', columns=need_cols)\n",
    "# rslt_8c = ak.from_parquet('ctr_sqz_2d_8c.parquet', columns=need_cols)\n",
    "# rslt_13c = ak.from_parquet('ctr_sqz_2d_13c.parquet', columns=need_cols)"
   ]
  },
  {
   "cell_type": "code",
   "execution_count": null,
   "metadata": {},
   "outputs": [],
   "source": [
    "rslt_9c.fields"
   ]
  },
  {
   "cell_type": "code",
   "execution_count": null,
   "metadata": {},
   "outputs": [],
   "source": [
    "rslt_9c.methods.fields"
   ]
  },
  {
   "cell_type": "code",
   "execution_count": null,
   "metadata": {},
   "outputs": [],
   "source": [
    "rslt=rslt_9c\n",
    "iss = rslt.issues\n",
    "ncand = len(rslt.issues[0, :, 0])\n",
    "fig, axs = plt.subplots(2, 3, sharex=\"all\", sharey=\"all\", squeeze=True, layout=\"constrained\", figsize=(8, 5))\n",
    "def make_plt(data, ax, label):\n",
    "    xyrange = [-2, 2]\n",
    "    ax.hist2d(x=data[:,0].to_numpy(), y=data[:,1].to_numpy(), bins=80, range=[xyrange, xyrange])\n",
    "    ax.set_xlim(*xyrange)\n",
    "    ax.set_box_aspect(1)\n",
    "    ax.set_title(label)\n",
    "make_plt(iss[np.arange(len(iss)), np.random.randint(0,ncand,len(iss))], axs[0,0], \"Candidates\")\n",
    "make_plt(iss[np.arange(len(iss)), rslt.methods.pl_h.winner], axs[0,1], \"FPTP\")\n",
    "make_plt(iss[np.arange(len(iss)), rslt.methods.IRV_h.winner], axs[0,2], \"RCV\")\n",
    "make_plt(iss[np.arange(len(iss)), rslt.methods.aprv_s.winner], axs[1,0], \"Approval\")\n",
    "make_plt(iss[np.arange(len(iss)), rslt.methods.star_6_s.winner], axs[1,1], \"STAR\")\n",
    "make_plt(iss[np.arange(len(iss)), rslt.methods.MM_h.winner], axs[1,2], \"Minimax\")\n",
    "plt.savefig(\"plots/twoissue_9c.png\", **sfopts)"
   ]
  },
  {
   "cell_type": "code",
   "execution_count": null,
   "metadata": {},
   "outputs": [],
   "source": [
    "ak.count_nonzero(rslt_9c.num_smith < 3) / len(rslt_9c)"
   ]
  },
  {
   "cell_type": "code",
   "execution_count": null,
   "metadata": {},
   "outputs": [],
   "source": [
    "an_issue = {\n",
    "    \"halfcsep\": 0.,\n",
    "    \"halfvsep\": 0.,\n",
    "    \"sigma\": 1.,\n",
    "    # \"sigma_vtr\": 1.0,\n",
    "}"
   ]
  },
  {
   "cell_type": "code",
   "execution_count": null,
   "metadata": {},
   "outputs": [],
   "source": [
    "config = copy.deepcopy(base_config)\n",
    "config[\"considerations\"][0][\"Issues\"] = [an_issue] * 2\n",
    "rslt_2d = do_run(base_config, 40000)"
   ]
  },
  {
   "cell_type": "code",
   "execution_count": null,
   "metadata": {},
   "outputs": [],
   "source": [
    "print(\"% no Condorcet winner =\",\n",
    "      (1 - ak.count_nonzero(rslt_2d.num_smith < 3) / len(rslt_2d)) * 100)"
   ]
  },
  {
   "cell_type": "code",
   "execution_count": null,
   "metadata": {},
   "outputs": [],
   "source": [
    "config = copy.deepcopy(base_config)\n",
    "config[\"considerations\"][0][\"Issues\"] = [an_issue] * 5\n",
    "rslt_2d = do_run(base_config, 40000)\n",
    "print(\"% no Condorcet winner =\",\n",
    "      (1 - ak.count_nonzero(rslt_2d.num_smith < 3) / len(rslt_2d)) * 100)"
   ]
  },
  {
   "cell_type": "code",
   "execution_count": null,
   "metadata": {},
   "outputs": [],
   "source": [
    "config = copy.deepcopy(base_config)\n",
    "config[\"voters\"] = 31\n",
    "config[\"considerations\"][0][\"Issues\"] = [an_issue] * 10\n",
    "rslt_2d = do_run(base_config, 40000)\n",
    "print(\"% no Condorcet winner =\",\n",
    "      (1 - ak.count_nonzero(rslt_2d.num_smith < 3) / len(rslt_2d)) * 100)"
   ]
  },
  {
   "cell_type": "code",
   "execution_count": null,
   "metadata": {},
   "outputs": [],
   "source": []
  },
  {
   "cell_type": "code",
   "execution_count": null,
   "metadata": {},
   "outputs": [],
   "source": [
    "ak.count_nonzero(rslt_5c.in_smith[np.arange(len(iss)), rslt_5c.methods[\"rp_h\"].winner])"
   ]
  },
  {
   "cell_type": "code",
   "execution_count": null,
   "metadata": {},
   "outputs": [],
   "source": [
    "def hist_1d_issue(rslt, method, ax=None, nbins=40, title=\"\", y2lims=None, simple_y2lbls=True):\n",
    "    ncand = len(rslt.issues[0, :, 0])\n",
    "    if ax is None:\n",
    "        _, ax = plt.subplots(1, 1)\n",
    "    iss = rslt.issues[:,:,0]\n",
    "    winner_iss = iss[np.arange(len(iss)), rslt.methods[method].winner]\n",
    "    best_iss = rslt.issues[:, 0, 0]\n",
    "    winner_hist, bin_edges = np.histogram(winner_iss, bins=nbins, range=(-1,1))\n",
    "    best_hist, _ = np.histogram(best_iss, bins=nbins, range=(-1,1))\n",
    "    bin_width = bin_edges[1] - bin_edges[0]\n",
    "    bin_centers = bin_edges[:-1] + bin_width / 2\n",
    "    winner_dist_ratio = winner_hist / best_hist\n",
    "    best_theory = (1. - np.abs(bin_edges))**ncand\n",
    "    best_theory = np.abs(best_theory[1:] - best_theory[:-1]) / 2 / bin_width\n",
    "    sns.histplot(winner_iss, binrange=(-1,1), bins=nbins, stat='density', ax=ax, label=\"winner dist'n\")\n",
    "    ax.plot(bin_centers, best_theory, 'P', markersize=3, c='C1', label=\"theory, ∞ voters\")\n",
    "    ax.set_xlim([-1, 1])\n",
    "    ax2 = ax.twinx()\n",
    "    ax2.semilogy(bin_centers, winner_dist_ratio, '.-', label=\"winners / max_util\", c=\"C5\")\n",
    "    ax2.set_ylabel(\"Ratio winner / best candidate\")\n",
    "    if simple_y2lbls:\n",
    "        ax2.yaxis.set_minor_formatter(matplotlib.ticker.ScalarFormatter())\n",
    "        ax2.yaxis.set_major_formatter(matplotlib.ticker.ScalarFormatter())\n",
    "    ax2.tick_params(axis='y', which=\"both\", colors='C5')\n",
    "    #ax2.yaxis.label.set_color(\"C4\")\n",
    "    if y2lims:\n",
    "        ax2.set_ylim(y2lims)\n",
    "    ax.grid(which=\"major\", axis=\"y\")  # is this a bug?\n",
    "    ax2.grid(which=\"minor\", axis=\"y\")  # or is it this one?\n",
    "    ax.set_xlabel(\"Issue position\")\n",
    "    if title:\n",
    "        plt.title(title)\n",
    "    h1, l1 = ax.get_legend_handles_labels()\n",
    "    h2, l2 = ax2.get_legend_handles_labels()\n",
    "    ax.legend(h1+h2, l1+l2, loc=\"upper right\")"
   ]
  },
  {
   "cell_type": "code",
   "execution_count": null,
   "metadata": {},
   "outputs": [],
   "source": [
    "def make_figs(results_, ncands_, column, title, filename, y2lims=None, simple_y2lbls=True):\n",
    "    for rslt, ncand in zip(results_, ncands_):\n",
    "        hist_1d_issue(rslt, column, nbins=40, title=title.format(ncand), y2lims=y2lims, simple_y2lbls=simple_y2lbls)\n",
    "        fn = Path(filename.format(ncand))\n",
    "        os.makedirs(fn.parent, exist_ok=True)\n",
    "        plt.savefig(fn, **sfopts)"
   ]
  }
 ],
 "metadata": {
  "kernelspec": {
   "display_name": ".venv",
   "language": "python",
   "name": "python3"
  },
  "language_info": {
   "codemirror_mode": {
    "name": "ipython",
    "version": 3
   },
   "file_extension": ".py",
   "mimetype": "text/x-python",
   "name": "python",
   "nbconvert_exporter": "python",
   "pygments_lexer": "ipython3",
   "version": "3.13.5"
  }
 },
 "nbformat": 4,
 "nbformat_minor": 2
}
