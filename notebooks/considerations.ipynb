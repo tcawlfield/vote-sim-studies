{
 "cells": [
  {
   "cell_type": "code",
   "execution_count": 1,
   "metadata": {},
   "outputs": [],
   "source": [
    "import numpy as np\n",
    "import tomlkit\n",
    "import pandas as pd\n",
    "import yaml\n",
    "from IPython.display import display\n",
    "import importlib\n",
    "import copy\n",
    "import awkward as ak\n",
    "\n",
    "import study_lib"
   ]
  },
  {
   "cell_type": "code",
   "execution_count": 2,
   "metadata": {},
   "outputs": [],
   "source": [
    "import seaborn as sns\n",
    "sns.set_theme()\n",
    "import matplotlib.pyplot as plt"
   ]
  },
  {
   "cell_type": "code",
   "execution_count": 3,
   "metadata": {},
   "outputs": [],
   "source": [
    "importlib.reload(study_lib)\n",
    "do_run = study_lib.do_run \n",
    "run_experiment = study_lib.run_experiment\n",
    "config_series = study_lib.config_series"
   ]
  },
  {
   "cell_type": "code",
   "execution_count": 4,
   "metadata": {},
   "outputs": [],
   "source": [
    "base_config_yaml = \"\"\"\n",
    "primary_candidates: 6\n",
    "candidates: 4\n",
    "voters: 1000\n",
    "considerations:\n",
    "- Issues:\n",
    "    - halfcsep: 0.75\n",
    "      halfvsep: 0.75\n",
    "      sigma: 1.0\n",
    "    - halfcsep: 0.\n",
    "      halfvsep: 0.\n",
    "      sigma: 0.5\n",
    "primary_method:\n",
    "    RRV:\n",
    "        strat: Honest\n",
    "        ranks: 21\n",
    "        # 0.5 <= k <= 1.0 -- smaller values downweight appeased ballots more.\n",
    "        k: 0.5\n",
    "methods:\n",
    "- Plurality:\n",
    "    strat: Honest\n",
    "- Plurality:\n",
    "    strat: Strategic\n",
    "- InstantRunoff: {}\n",
    "- Range:\n",
    "    nranks: 2\n",
    "    strat: Honest\n",
    "- Range:\n",
    "    nranks: 2\n",
    "    strat: Strategic\n",
    "- STAR:\n",
    "    strat: Honest\n",
    "- STAR:\n",
    "    strat: Strategic\n",
    "    strategic_stretch_factor: 2.0\n",
    "- RP:\n",
    "    strat: Honest\n",
    "\"\"\"\n",
    "base_config = yaml.safe_load(base_config_yaml)"
   ]
  },
  {
   "cell_type": "code",
   "execution_count": 6,
   "metadata": {},
   "outputs": [
    {
     "name": "stdout",
     "output_type": "stream",
     "text": [
      "b\"\\nthread 'main' panicked at src/methods/ranked_pairs.rs:97:74:\\ncalled `Option::unwrap()` on a `None` value\\nnote: run with `RUST_BACKTRACE=1` environment variable to display a backtrace\\n\"\n"
     ]
    },
    {
     "ename": "ValueError",
     "evalue": "voting process failed -- see perhaps /tmp/voting_last_config.toml",
     "output_type": "error",
     "traceback": [
      "\u001b[31m---------------------------------------------------------------------------\u001b[39m",
      "\u001b[31mValueError\u001b[39m                                Traceback (most recent call last)",
      "\u001b[36mCell\u001b[39m\u001b[36m \u001b[39m\u001b[32mIn[6]\u001b[39m\u001b[32m, line 2\u001b[39m\n\u001b[32m      1\u001b[39m config = copy.deepcopy(base_config)\n\u001b[32m----> \u001b[39m\u001b[32m2\u001b[39m (df := \u001b[43mrun_experiment\u001b[49m\u001b[43m(\u001b[49m\u001b[43mconfig_series\u001b[49m\u001b[43m(\u001b[49m\u001b[43mconfig\u001b[49m\u001b[43m,\u001b[49m\u001b[43m \u001b[49m\u001b[33;43m'\u001b[39;49m\u001b[33;43mprimary_candidates\u001b[39;49m\u001b[33;43m'\u001b[39;49m\u001b[43m,\u001b[49m\u001b[43m \u001b[49m\u001b[43m[\u001b[49m\u001b[32;43m4\u001b[39;49m\u001b[43m,\u001b[49m\u001b[43m \u001b[49m\u001b[32;43m6\u001b[39;49m\u001b[43m,\u001b[49m\u001b[43m \u001b[49m\u001b[32;43m10\u001b[39;49m\u001b[43m]\u001b[49m\u001b[43m)\u001b[49m\u001b[43m,\u001b[49m\u001b[43m \u001b[49m\u001b[43mtrials\u001b[49m\u001b[43m=\u001b[49m\u001b[32;43m10000\u001b[39;49m\u001b[43m)\u001b[49m)\n",
      "\u001b[36mFile \u001b[39m\u001b[32m~/git/vote-sim-studies/notebooks/study_lib.py:81\u001b[39m, in \u001b[36mrun_experiment\u001b[39m\u001b[34m(config_seq, trials, pi, sm)\u001b[39m\n\u001b[32m     78\u001b[39m     (pname, pval, config) = (\u001b[33m\"\u001b[39m\u001b[33mconfig_num\u001b[39m\u001b[33m\"\u001b[39m, iexp, config_tuple)\n\u001b[32m     79\u001b[39m iexp += \u001b[32m1\u001b[39m  \u001b[38;5;66;03m# Only for the case that config_seq is a list of configs.\u001b[39;00m\n\u001b[32m---> \u001b[39m\u001b[32m81\u001b[39m results = \u001b[43mdo_run\u001b[49m\u001b[43m(\u001b[49m\u001b[43mconfig\u001b[49m\u001b[43m,\u001b[49m\u001b[43m \u001b[49m\u001b[43mtrials\u001b[49m\u001b[43m)\u001b[49m\n\u001b[32m     82\u001b[39m table_data[pname].append(pval)\n\u001b[32m     83\u001b[39m \u001b[38;5;28;01mif\u001b[39;00m sm:\n",
      "\u001b[36mFile \u001b[39m\u001b[32m~/git/vote-sim-studies/notebooks/study_lib.py:42\u001b[39m, in \u001b[36mdo_run\u001b[39m\u001b[34m(config, trials)\u001b[39m\n\u001b[32m     40\u001b[39m     \u001b[38;5;28;01mif\u001b[39;00m cp.returncode != \u001b[32m0\u001b[39m:\n\u001b[32m     41\u001b[39m         \u001b[38;5;28mprint\u001b[39m(cp.stderr)\n\u001b[32m---> \u001b[39m\u001b[32m42\u001b[39m         \u001b[38;5;28;01mraise\u001b[39;00m \u001b[38;5;167;01mValueError\u001b[39;00m(\u001b[33mf\u001b[39m\u001b[33m\"\u001b[39m\u001b[33mvoting process failed -- see perhaps \u001b[39m\u001b[38;5;132;01m{\u001b[39;00mlast_config_file\u001b[38;5;132;01m}\u001b[39;00m\u001b[33m\"\u001b[39m)\n\u001b[32m     43\u001b[39m     results = ak.from_parquet(pq_file)\n\u001b[32m     44\u001b[39m \u001b[38;5;28;01mreturn\u001b[39;00m results\n",
      "\u001b[31mValueError\u001b[39m: voting process failed -- see perhaps /tmp/voting_last_config.toml"
     ]
    }
   ],
   "source": [
    "config = copy.deepcopy(base_config)\n",
    "(df := run_experiment(config_series(config, 'primary_candidates', [4, 6, 10]), trials=10000))"
   ]
  },
  {
   "cell_type": "code",
   "execution_count": 13,
   "metadata": {},
   "outputs": [
    {
     "name": "stdout",
     "output_type": "stream",
     "text": [
      "b\"thread 'main' panicked at src/methods/ranked_pairs.rs:97:74:\\ncalled `Option::unwrap()` on a `None` value\\nnote: run with `RUST_BACKTRACE=1` environment variable to display a backtrace\\n\"\n"
     ]
    },
    {
     "ename": "ValueError",
     "evalue": "voting process failed -- see perhaps /tmp/voting_last_config.toml",
     "output_type": "error",
     "traceback": [
      "\u001b[0;31m---------------------------------------------------------------------------\u001b[0m",
      "\u001b[0;31mValueError\u001b[0m                                Traceback (most recent call last)",
      "Cell \u001b[0;32mIn[13], line 2\u001b[0m\n\u001b[1;32m      1\u001b[0m config \u001b[38;5;241m=\u001b[39m copy\u001b[38;5;241m.\u001b[39mdeepcopy(base_config)\n\u001b[0;32m----> 2\u001b[0m (df \u001b[38;5;241m:=\u001b[39m \u001b[43mrun_experiment\u001b[49m\u001b[43m(\u001b[49m\u001b[43mconfig_series\u001b[49m\u001b[43m(\u001b[49m\u001b[43mconfig\u001b[49m\u001b[43m,\u001b[49m\u001b[43m \u001b[49m\u001b[38;5;124;43m'\u001b[39;49m\u001b[38;5;124;43mconsiderations.0.Issues.0.halfcsep\u001b[39;49m\u001b[38;5;124;43m'\u001b[39;49m\u001b[43m,\u001b[49m\u001b[43m \u001b[49m\u001b[43m[\u001b[49m\u001b[38;5;241;43m0\u001b[39;49m\u001b[43m,\u001b[49m\u001b[43m \u001b[49m\u001b[38;5;241;43m1\u001b[39;49m\u001b[43m,\u001b[49m\u001b[43m \u001b[49m\u001b[38;5;241;43m2\u001b[39;49m\u001b[43m]\u001b[49m\u001b[43m)\u001b[49m\u001b[43m,\u001b[49m\u001b[43m \u001b[49m\u001b[43mtrials\u001b[49m\u001b[38;5;241;43m=\u001b[39;49m\u001b[38;5;241;43m10000\u001b[39;49m\u001b[43m)\u001b[49m)\n",
      "File \u001b[0;32m~/git/vote-sim-studies/notebooks/study_lib.py:80\u001b[0m, in \u001b[0;36mrun_experiment\u001b[0;34m(config_seq, trials, pi, sm)\u001b[0m\n\u001b[1;32m     77\u001b[0m     (pname, pval, config) \u001b[38;5;241m=\u001b[39m (\u001b[38;5;124m'\u001b[39m\u001b[38;5;124mconfig_num\u001b[39m\u001b[38;5;124m'\u001b[39m, iexp, config_tuple)\n\u001b[1;32m     78\u001b[0m iexp \u001b[38;5;241m+\u001b[39m\u001b[38;5;241m=\u001b[39m \u001b[38;5;241m1\u001b[39m  \u001b[38;5;66;03m# Only for the case that config_seq is a list of configs.\u001b[39;00m\n\u001b[0;32m---> 80\u001b[0m results \u001b[38;5;241m=\u001b[39m \u001b[43mdo_run\u001b[49m\u001b[43m(\u001b[49m\u001b[43mconfig\u001b[49m\u001b[43m,\u001b[49m\u001b[43m \u001b[49m\u001b[43mtrials\u001b[49m\u001b[43m)\u001b[49m\n\u001b[1;32m     81\u001b[0m table_data[pname]\u001b[38;5;241m.\u001b[39mappend(pval)\n\u001b[1;32m     82\u001b[0m \u001b[38;5;28;01mif\u001b[39;00m sm:\n",
      "File \u001b[0;32m~/git/vote-sim-studies/notebooks/study_lib.py:36\u001b[0m, in \u001b[0;36mdo_run\u001b[0;34m(config, trials)\u001b[0m\n\u001b[1;32m     34\u001b[0m \u001b[38;5;28;01mif\u001b[39;00m cp\u001b[38;5;241m.\u001b[39mreturncode \u001b[38;5;241m!=\u001b[39m \u001b[38;5;241m0\u001b[39m:\n\u001b[1;32m     35\u001b[0m     \u001b[38;5;28mprint\u001b[39m(cp\u001b[38;5;241m.\u001b[39mstderr)\n\u001b[0;32m---> 36\u001b[0m     \u001b[38;5;28;01mraise\u001b[39;00m \u001b[38;5;167;01mValueError\u001b[39;00m(\u001b[38;5;124mf\u001b[39m\u001b[38;5;124m\"\u001b[39m\u001b[38;5;124mvoting process failed -- see perhaps \u001b[39m\u001b[38;5;132;01m{\u001b[39;00mlast_config_file\u001b[38;5;132;01m}\u001b[39;00m\u001b[38;5;124m\"\u001b[39m)\n\u001b[1;32m     37\u001b[0m last_parquet \u001b[38;5;241m=\u001b[39m Path(\u001b[38;5;124m'\u001b[39m\u001b[38;5;124m/tmp/last-vote-sim.parquet\u001b[39m\u001b[38;5;124m'\u001b[39m)\n\u001b[1;32m     38\u001b[0m \u001b[38;5;28;01mif\u001b[39;00m last_parquet\u001b[38;5;241m.\u001b[39mexists():\n",
      "\u001b[0;31mValueError\u001b[0m: voting process failed -- see perhaps /tmp/voting_last_config.toml"
     ]
    }
   ],
   "source": [
    "config = copy.deepcopy(base_config)\n",
    "(df := run_experiment(config_series(config, 'considerations.0.Issues.0.halfcsep', [0, 1, 2]), trials=10000))"
   ]
  },
  {
   "cell_type": "code",
   "execution_count": null,
   "metadata": {},
   "outputs": [],
   "source": []
  }
 ],
 "metadata": {
  "kernelspec": {
   "display_name": ".venv",
   "language": "python",
   "name": "python3"
  },
  "language_info": {
   "codemirror_mode": {
    "name": "ipython",
    "version": 3
   },
   "file_extension": ".py",
   "mimetype": "text/x-python",
   "name": "python",
   "nbconvert_exporter": "python",
   "pygments_lexer": "ipython3",
   "version": "3.11.2"
  }
 },
 "nbformat": 4,
 "nbformat_minor": 2
}
