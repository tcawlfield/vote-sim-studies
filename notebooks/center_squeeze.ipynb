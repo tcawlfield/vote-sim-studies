{
 "cells": [
  {
   "cell_type": "code",
   "execution_count": null,
   "metadata": {},
   "outputs": [],
   "source": [
    "import math\n",
    "import numpy as np\n",
    "import tomlkit\n",
    "import pandas as pd\n",
    "import yaml\n",
    "from IPython.display import display\n",
    "import importlib\n",
    "import copy\n",
    "import awkward as ak\n",
    "import seaborn as sns\n",
    "sns.set_theme()\n",
    "import matplotlib\n",
    "import matplotlib.pyplot as plt\n",
    "import os\n",
    "from pathlib import Path\n",
    "\n",
    "import study_lib"
   ]
  },
  {
   "cell_type": "code",
   "execution_count": null,
   "metadata": {},
   "outputs": [],
   "source": [
    "importlib.reload(study_lib)\n",
    "do_run = study_lib.do_run \n",
    "run_experiment = study_lib.run_experiment\n",
    "config_series = study_lib.config_series"
   ]
  },
  {
   "cell_type": "code",
   "execution_count": null,
   "metadata": {},
   "outputs": [],
   "source": [
    "base_config_yaml = f\"\"\"\n",
    "candidates: 4\n",
    "voters: 2000\n",
    "considerations:\n",
    "- Issues:\n",
    "    - halfcsep: 0.\n",
    "      halfvsep: 0.\n",
    "      sigma: {1./math.sqrt(3.)}\n",
    "      uniform: true\n",
    "methods:\n",
    "- Plurality:\n",
    "    strat: Honest\n",
    "- Plurality:\n",
    "    strat: Strategic\n",
    "- InstantRunoff: {{}}\n",
    "- Range:\n",
    "    nranks: 2\n",
    "    strat: Honest\n",
    "- Range:\n",
    "    nranks: 2\n",
    "    strat: Strategic\n",
    "- STAR:\n",
    "    strat: Honest\n",
    "- STAR:\n",
    "    strat: Strategic\n",
    "    strategic_stretch_factor: 2.0\n",
    "- BtrIrv:\n",
    "    strat: Honest\n",
    "- RP:\n",
    "    strat: Honest\n",
    "\"\"\"\n",
    "base_config = yaml.safe_load(base_config_yaml)"
   ]
  },
  {
   "cell_type": "code",
   "execution_count": null,
   "metadata": {},
   "outputs": [],
   "source": [
    "sfopts = dict(bbox_inches='tight', transparent=False)"
   ]
  },
  {
   "cell_type": "code",
   "execution_count": null,
   "metadata": {},
   "outputs": [],
   "source": [
    "config = copy.deepcopy(base_config)\n",
    "df = run_experiment(config_series(config, 'candidates', [2, 3, 5, 8]), trials=50000,\n",
    "                      with_results=True, show_output=False)\n",
    "results = df.attrs[\"results\"]\n",
    "df"
   ]
  },
  {
   "cell_type": "code",
   "execution_count": null,
   "metadata": {},
   "outputs": [],
   "source": [
    "# rslt_5c = do_run(base_config, 10000)\n",
    "(rslt_2c, rslt_3c, rslt_5c, rslt_8c) = results"
   ]
  },
  {
   "cell_type": "code",
   "execution_count": null,
   "metadata": {},
   "outputs": [],
   "source": [
    "need_cols = ['issues', 'num_smith', 'in_smith', 'methods']  # not using cov_matrix, ideal_cand, or cand_regret for memory savings\n",
    "rslt_2c = ak.from_parquet('ctr_sqz_1d_2c.parquet', columns=need_cols)\n",
    "rslt_3c = ak.from_parquet('ctr_sqz_1d_3c.parquet', columns=need_cols)\n",
    "rslt_5c = ak.from_parquet('ctr_sqz_1d_5c.parquet', columns=need_cols)\n",
    "rslt_8c = ak.from_parquet('ctr_sqz_1d_8c.parquet', columns=need_cols)\n",
    "rslt_13c = ak.from_parquet('ctr_sqz_1d_13c.parquet', columns=need_cols)"
   ]
  },
  {
   "cell_type": "code",
   "execution_count": null,
   "metadata": {},
   "outputs": [],
   "source": [
    "rslt_5c.fields"
   ]
  },
  {
   "cell_type": "code",
   "execution_count": null,
   "metadata": {},
   "outputs": [],
   "source": [
    "rslt_5c.methods.fields"
   ]
  },
  {
   "cell_type": "code",
   "execution_count": null,
   "metadata": {},
   "outputs": [],
   "source": [
    "for idx, rslt in enumerate(results):\n",
    "    ncand = len(rslt.issues[0, :, 0])\n",
    "    print(f\"resuts[{idx}]: {ncand=}\")"
   ]
  },
  {
   "cell_type": "code",
   "execution_count": null,
   "metadata": {},
   "outputs": [],
   "source": [
    "rslt=rslt_2c\n",
    "iss = rslt.issues[:,:,0]\n",
    "ncand = len(rslt.issues[0, :, 0])\n",
    "print(f\"{ncand=}\")\n",
    "pl_h_winner_iss = iss[np.arange(len(iss)), rslt.methods.pl_h.winner]\n",
    "aprv_h_winner_iss = iss[np.arange(len(iss)), rslt.methods.aprv_h.winner]\n",
    "pl_s_winner_iss = iss[np.arange(len(iss)), rslt.methods.pl_s.winner]\n",
    "irv_h_winner_iss = iss[np.arange(len(iss)), rslt.methods.IRV_h.winner]\n",
    "all_iss = iss[np.arange(len(iss)), np.random.randint(0,ncand,len(iss))]\n",
    "max_util = rslt.issues[:, 0, 0]"
   ]
  },
  {
   "cell_type": "code",
   "execution_count": null,
   "metadata": {},
   "outputs": [],
   "source": [
    "sns.histplot({'Random':all_iss, 'FPTP (H)':pl_h_winner_iss, 'Max utility':max_util},\n",
    "             binrange=(-1,1), bins=80, stat='density')\n",
    "plt.title(\"Two candidates (All voting methods agree)\")\n",
    "plt.xlabel(\"Issue position\")\n",
    "plt.savefig(\"plots/oneissue_twocand.png\", **sfopts)"
   ]
  },
  {
   "cell_type": "code",
   "execution_count": null,
   "metadata": {},
   "outputs": [],
   "source": [
    "rslt=rslt_5c\n",
    "iss = rslt.issues[:,:,0]\n",
    "ncand = len(rslt.issues[0, :, 0])\n",
    "print(f\"{ncand=}\")\n",
    "pl_h_winner_iss = iss[np.arange(len(iss)), rslt.methods.pl_h.winner]\n",
    "aprv_h_winner_iss = iss[np.arange(len(iss)), rslt.methods.aprv_h.winner]\n",
    "pl_s_winner_iss = iss[np.arange(len(iss)), rslt.methods.pl_s.winner]\n",
    "irv_h_winner_iss = iss[np.arange(len(iss)), rslt.methods.IRV_h.winner]\n",
    "all_iss = iss[np.arange(len(iss)), np.random.randint(0,ncand,len(iss))]\n",
    "max_util = rslt.issues[:, 0, 0]\n",
    "sns.histplot({'Random':all_iss, 'FPTP (H)':pl_h_winner_iss, 'Max utility':max_util},\n",
    "             binrange=(-1,1), bins=80, stat='density')\n",
    "plt.title(\"Five candidates\")\n",
    "plt.xlabel(\"Issue position\")\n",
    "plt.savefig(\"plots/oneissue_5cand_fptp_hist.png\", **sfopts)"
   ]
  },
  {
   "cell_type": "code",
   "execution_count": null,
   "metadata": {},
   "outputs": [],
   "source": [
    "sns.histplot({'RCV (honest)':irv_h_winner_iss, 'FPTP (Strat)':pl_s_winner_iss, 'Max utility':max_util},\n",
    "             binrange=(-1,1), bins=80, stat='density')\n",
    "plt.title(\"Five candidates\")\n",
    "plt.xlabel(\"Issue position\")\n",
    "plt.xlim([-1,1])\n",
    "plt.savefig(\"plots/oneissue_5cand_fptps_irv_hist.png\", **sfopts)"
   ]
  },
  {
   "cell_type": "code",
   "execution_count": null,
   "metadata": {},
   "outputs": [],
   "source": [
    "ak.count_nonzero(rslt_5c.in_smith[np.arange(len(iss)), rslt_5c.methods.aprv_h.winner])"
   ]
  },
  {
   "cell_type": "code",
   "execution_count": null,
   "metadata": {},
   "outputs": [],
   "source": [
    "ak.count_nonzero(rslt_5c.num_smith < 3)"
   ]
  },
  {
   "cell_type": "code",
   "execution_count": null,
   "metadata": {},
   "outputs": [],
   "source": [
    "ak.count_nonzero(rslt_5c.in_smith[np.arange(len(iss)), rslt_5c.methods[\"BTR-IRV_h\"].winner]) "
   ]
  },
  {
   "cell_type": "code",
   "execution_count": null,
   "metadata": {},
   "outputs": [],
   "source": [
    "rslt_5c.methods.fields"
   ]
  },
  {
   "cell_type": "code",
   "execution_count": null,
   "metadata": {},
   "outputs": [],
   "source": [
    "ak.count_nonzero(rslt_5c.in_smith[np.arange(len(iss)), rslt_5c.methods[\"rp_h\"].winner])"
   ]
  },
  {
   "cell_type": "code",
   "execution_count": null,
   "metadata": {},
   "outputs": [],
   "source": [
    "def hist_1d_issue(rslt, method, ax=None, nbins=40, title=\"\", y2lims=None, simple_y2lbls=True):\n",
    "    ncand = len(rslt.issues[0, :, 0])\n",
    "    if ax is None:\n",
    "        _, ax = plt.subplots(1, 1)\n",
    "    iss = rslt.issues[:,:,0]\n",
    "    winner_iss = iss[np.arange(len(iss)), rslt.methods[method].winner]\n",
    "    best_iss = rslt.issues[:, 0, 0]\n",
    "    winner_hist, bin_edges = np.histogram(winner_iss, bins=nbins, range=(-1,1))\n",
    "    best_hist, _ = np.histogram(best_iss, bins=nbins, range=(-1,1))\n",
    "    bin_width = bin_edges[1] - bin_edges[0]\n",
    "    bin_centers = bin_edges[:-1] + bin_width / 2\n",
    "    winner_dist_ratio = winner_hist / best_hist\n",
    "    best_theory = (1. - np.abs(bin_edges))**ncand\n",
    "    best_theory = np.abs(best_theory[1:] - best_theory[:-1]) / 2 / bin_width\n",
    "    sns.histplot(winner_iss, binrange=(-1,1), bins=nbins, stat='density', ax=ax, label=\"winner dist'n\")\n",
    "    ax.plot(bin_centers, best_theory, 'P', markersize=3, c='C1', label=\"theory, ∞ voters\")\n",
    "    ax.set_xlim([-1, 1])\n",
    "    ax2 = ax.twinx()\n",
    "    ax2.semilogy(bin_centers, winner_dist_ratio, '.-', label=\"winners / max_util\", c=\"C5\")\n",
    "    ax2.set_ylabel(\"Ratio winner / best candidate\")\n",
    "    if simple_y2lbls:\n",
    "        ax2.yaxis.set_minor_formatter(matplotlib.ticker.ScalarFormatter())\n",
    "        ax2.yaxis.set_major_formatter(matplotlib.ticker.ScalarFormatter())\n",
    "    ax2.tick_params(axis='y', which=\"both\", colors='C5')\n",
    "    #ax2.yaxis.label.set_color(\"C4\")\n",
    "    if y2lims:\n",
    "        ax2.set_ylim(y2lims)\n",
    "    ax.grid(which=\"major\", axis=\"y\")  # is this a bug?\n",
    "    ax2.grid(which=\"minor\", axis=\"y\")  # or is it this one?\n",
    "    ax.set_xlabel(\"Issue position\")\n",
    "    if title:\n",
    "        plt.title(title)\n",
    "    h1, l1 = ax.get_legend_handles_labels()\n",
    "    h2, l2 = ax2.get_legend_handles_labels()\n",
    "    ax.legend(h1+h2, l1+l2, loc=\"upper right\")"
   ]
  },
  {
   "cell_type": "code",
   "execution_count": null,
   "metadata": {},
   "outputs": [],
   "source": [
    "hist_1d_issue(rslt_5c, 'rp_h', nbins=40, title='5 Candidates, Ranked Pairs', y2lims=(.5,2.0))"
   ]
  },
  {
   "cell_type": "code",
   "execution_count": null,
   "metadata": {},
   "outputs": [],
   "source": [
    "hist_1d_issue(rslt_2c, 'rp_h', nbins=40, title='2 Candidates, Any method', y2lims=(.5,2.0))\n",
    "plt.savefig(\"plots/oneissue_twocand_ratio.png\", **sfopts)"
   ]
  },
  {
   "cell_type": "code",
   "execution_count": null,
   "metadata": {},
   "outputs": [],
   "source": [
    "rp_h_2c_misses = rslt_2c[rslt_2c.methods.rp_h.winner != rslt_2c.ideal_cand]\n",
    "print(f\"{len(rp_h_2c_misses)=}\")\n",
    "ak.to_list(rp_h_2c_misses[0])"
   ]
  },
  {
   "cell_type": "code",
   "execution_count": null,
   "metadata": {},
   "outputs": [],
   "source": [
    "ak.to_list(rp_h_2c_misses[3])"
   ]
  },
  {
   "cell_type": "code",
   "execution_count": null,
   "metadata": {},
   "outputs": [],
   "source": [
    "def make_figs(results_, ncands_, column, title, filename, y2lims=None, simple_y2lbls=True):\n",
    "    for rslt, ncand in zip(results_, ncands_):\n",
    "        hist_1d_issue(rslt, column, nbins=40, title=title.format(ncand), y2lims=y2lims, simple_y2lbls=simple_y2lbls)\n",
    "        fn = Path(filename.format(ncand))\n",
    "        os.makedirs(fn.parent, exist_ok=True)\n",
    "        plt.savefig(fn, **sfopts)"
   ]
  },
  {
   "cell_type": "code",
   "execution_count": null,
   "metadata": {},
   "outputs": [],
   "source": [
    "results = [rslt_3c, rslt_5c, rslt_8c, rslt_13c]\n",
    "ncands_list = [3, 5, 8, 13]\n",
    "make_figs(results, ncands_list, 'rp_h', \"{} Candidates, Ranked Pairs\", \"plots/oneissue/rp/{:02} Cands.png\")"
   ]
  },
  {
   "cell_type": "code",
   "execution_count": null,
   "metadata": {},
   "outputs": [],
   "source": [
    "make_figs(results, ncands_list, 'star_6_h', \"{} Candidates, STAR\", \"plots/oneissue/star/{:02} Cands.png\")"
   ]
  },
  {
   "cell_type": "code",
   "execution_count": null,
   "metadata": {},
   "outputs": [],
   "source": [
    "make_figs(results, ncands_list, 'IRV_h', \"{} Candidates, RCV\", \"plots/oneissue/irv/{:02} Cands.png\")"
   ]
  },
  {
   "cell_type": "code",
   "execution_count": null,
   "metadata": {},
   "outputs": [],
   "source": [
    "make_figs(results, ncands_list, 'pl_s', \"{} Candidates, FPTP Strategic\", \"plots/oneissue/fptps/{:02} Cands.png\", simple_y2lbls=False)\n",
    "make_figs(results, ncands_list, 'pl_h', \"{} Candidates, FPTP Honest\", \"plots/oneissue/fptph/{:02} Cands.png\", simple_y2lbls=False)"
   ]
  },
  {
   "cell_type": "code",
   "execution_count": null,
   "metadata": {},
   "outputs": [],
   "source": [
    "make_figs(results, ncands_list, 'star_6_s', \"{} Candidates, STAR Strategic\", \"plots/oneissue/stars/{:02} Cands.png\")"
   ]
  },
  {
   "cell_type": "code",
   "execution_count": null,
   "metadata": {},
   "outputs": [],
   "source": [
    "# hist_1d_issue(rslt_3c, 'aprv_h', nbins=40, title='3 Candidates, Approval (Honest)') #, y2lims=(.9,1.1))\n",
    "# plt.savefig(\"plots/oneissue_aprv_3c.png\")\n",
    "make_figs(results, ncands_list, 'aprv_h', \"{} Candidates, Approval Honest\", \"plots/oneissue/aprv/{:02} Cands.png\")\n",
    "make_figs(results, ncands_list, 'aprv_s', \"{} Candidates, Approval Strategic\", \"plots/oneissue/aprvs/{:02} Cands.png\")"
   ]
  },
  {
   "cell_type": "markdown",
   "metadata": {},
   "source": [
    "## Prop 131\n",
    "\n",
    "Open primary, FPTP. Top 4 candidates go to IRV."
   ]
  },
  {
   "cell_type": "code",
   "execution_count": null,
   "metadata": {},
   "outputs": [],
   "source": [
    "p131_config_yaml = f\"\"\"\n",
    "candidates: 4\n",
    "primary_candidates: 12\n",
    "primary_method:\n",
    "    PluralityTopN: {{}}\n",
    "voters: 3001\n",
    "considerations:\n",
    "- Issues:\n",
    "    - halfcsep: 0.\n",
    "      halfvsep: 0.\n",
    "      sigma: {1./math.sqrt(3.)}\n",
    "      uniform: true\n",
    "methods:\n",
    "- InstantRunoff: {{}}\n",
    "\"\"\"\n",
    "p131_config = yaml.safe_load(p131_config_yaml)"
   ]
  },
  {
   "cell_type": "code",
   "execution_count": null,
   "metadata": {},
   "outputs": [],
   "source": [
    "rslt_p131 = do_run(p131_config, 100000)"
   ]
  },
  {
   "cell_type": "code",
   "execution_count": null,
   "metadata": {},
   "outputs": [],
   "source": [
    "rslt=rslt_p131\n",
    "iss = rslt.issues[:,:,0]\n",
    "ncand = len(rslt.issues[0, :, 0])\n",
    "print(f\"{ncand=}\")\n",
    "irv_h_winner_iss = iss[np.arange(len(iss)), rslt.methods.IRV_h.winner]\n",
    "finalist_iss = ak.flatten(iss)"
   ]
  },
  {
   "cell_type": "code",
   "execution_count": null,
   "metadata": {},
   "outputs": [],
   "source": [
    "sns.histplot({'RCV winner':irv_h_winner_iss, 'Finalists':finalist_iss},\n",
    "             binrange=(-1,1), bins=80, stat='density', common_norm=False)\n",
    "plt.title(\"Prop 131 simulation, 12 primary candidates\")\n",
    "plt.xlabel(\"Issue position\")\n",
    "plt.xlim(-1, 1)\n",
    "plt.savefig(\"plots/prop131.png\", **sfopts)"
   ]
  },
  {
   "cell_type": "code",
   "execution_count": null,
   "metadata": {},
   "outputs": [],
   "source": []
  }
 ],
 "metadata": {
  "kernelspec": {
   "display_name": ".venv",
   "language": "python",
   "name": "python3"
  },
  "language_info": {
   "codemirror_mode": {
    "name": "ipython",
    "version": 3
   },
   "file_extension": ".py",
   "mimetype": "text/x-python",
   "name": "python",
   "nbconvert_exporter": "python",
   "pygments_lexer": "ipython3",
   "version": "3.13.5"
  }
 },
 "nbformat": 4,
 "nbformat_minor": 2
}
