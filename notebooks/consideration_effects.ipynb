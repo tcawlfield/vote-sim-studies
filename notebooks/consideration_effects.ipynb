{
 "cells": [
  {
   "cell_type": "code",
   "execution_count": 18,
   "metadata": {},
   "outputs": [],
   "source": [
    "import numpy as np\n",
    "import pandas as pd\n",
    "import yaml\n",
    "from IPython.display import display\n",
    "import importlib\n",
    "import copy\n",
    "import awkward as ak\n",
    "import seaborn as sns\n",
    "import matplotlib.pyplot as plt\n",
    "\n",
    "import study_lib"
   ]
  },
  {
   "cell_type": "code",
   "execution_count": 2,
   "metadata": {},
   "outputs": [],
   "source": [
    "base_config_yaml = \"\"\"\n",
    "candidates: 5\n",
    "voters: 555\n",
    "considerations:\n",
    "- Likability:\n",
    "    mean: 0.25\n",
    "- Irrational:\n",
    "    sigma: 1.0\n",
    "    camps: 7\n",
    "    individualism_deg: 30\n",
    "- Issues:\n",
    "    - sigma: 1.0\n",
    "      halfcsep: 1.5\n",
    "      halfvsep: 2.0\n",
    "    - sigma: 0.5\n",
    "      halfcsep: 1.0\n",
    "    - sigma: 0.5\n",
    "      halfcsep: 2.0\n",
    "methods:\n",
    "- Plurality:\n",
    "    strat: Honest\n",
    "- Plurality:\n",
    "    strat: Strategic\n",
    "- Range:\n",
    "    nranks: 10\n",
    "    strat: Honest\n",
    "- Range:\n",
    "    nranks: 10\n",
    "    strat: Strategic\n",
    "    strategic_stretch_factor: 1.5\n",
    "- Range:\n",
    "    nranks: 2\n",
    "    strat: Honest\n",
    "- Range:\n",
    "    nranks: 2\n",
    "    strat: Strategic\n",
    "    strategic_stretch_factor: 4.0\n",
    "- InstantRunoff: {}\n",
    "- STAR:\n",
    "    strat: Honest\n",
    "- STAR:\n",
    "    strat: Strategic\n",
    "    strategic_stretch_factor: 1.5\n",
    "- RP:\n",
    "    strat: Honest\n",
    "\"\"\"\n",
    "config = yaml.safe_load(base_config_yaml)"
   ]
  },
  {
   "cell_type": "code",
   "execution_count": 3,
   "metadata": {},
   "outputs": [],
   "source": [
    "importlib.reload(study_lib)\n",
    "do_run = study_lib.do_run \n",
    "run_experiment = study_lib.run_experiment\n",
    "cs = study_lib.config_series"
   ]
  },
  {
   "cell_type": "code",
   "execution_count": 5,
   "metadata": {},
   "outputs": [
    {
     "data": {
      "text/html": [
       "<div>\n",
       "<style scoped>\n",
       "    .dataframe tbody tr th:only-of-type {\n",
       "        vertical-align: middle;\n",
       "    }\n",
       "\n",
       "    .dataframe tbody tr th {\n",
       "        vertical-align: top;\n",
       "    }\n",
       "\n",
       "    .dataframe thead th {\n",
       "        text-align: right;\n",
       "    }\n",
       "</style>\n",
       "<table border=\"1\" class=\"dataframe\">\n",
       "  <thead>\n",
       "    <tr style=\"text-align: right;\">\n",
       "      <th></th>\n",
       "      <th>candidates</th>\n",
       "      <th>pl_h_mR</th>\n",
       "      <th>pl_s_mR</th>\n",
       "      <th>range_10_h_mR</th>\n",
       "      <th>range_10_s_mR</th>\n",
       "      <th>aprv_h_mR</th>\n",
       "      <th>aprv_s_mR</th>\n",
       "      <th>IRV_h_mR</th>\n",
       "      <th>star_6_h_mR</th>\n",
       "      <th>star_6_s_mR</th>\n",
       "      <th>rp_h_mR</th>\n",
       "    </tr>\n",
       "  </thead>\n",
       "  <tbody>\n",
       "    <tr>\n",
       "      <th>0</th>\n",
       "      <td>2</td>\n",
       "      <td>0.092200</td>\n",
       "      <td>0.092200</td>\n",
       "      <td>0.092200</td>\n",
       "      <td>0.092200</td>\n",
       "      <td>0.092200</td>\n",
       "      <td>0.092200</td>\n",
       "      <td>0.092200</td>\n",
       "      <td>0.092200</td>\n",
       "      <td>0.092200</td>\n",
       "      <td>0.092200</td>\n",
       "    </tr>\n",
       "    <tr>\n",
       "      <th>1</th>\n",
       "      <td>3</td>\n",
       "      <td>0.263755</td>\n",
       "      <td>0.064070</td>\n",
       "      <td>0.030990</td>\n",
       "      <td>0.029666</td>\n",
       "      <td>0.033997</td>\n",
       "      <td>0.037035</td>\n",
       "      <td>0.065145</td>\n",
       "      <td>0.035182</td>\n",
       "      <td>0.036580</td>\n",
       "      <td>0.035973</td>\n",
       "    </tr>\n",
       "    <tr>\n",
       "      <th>2</th>\n",
       "      <td>4</td>\n",
       "      <td>0.273363</td>\n",
       "      <td>0.072655</td>\n",
       "      <td>0.021260</td>\n",
       "      <td>0.018558</td>\n",
       "      <td>0.023538</td>\n",
       "      <td>0.025712</td>\n",
       "      <td>0.059472</td>\n",
       "      <td>0.022813</td>\n",
       "      <td>0.025035</td>\n",
       "      <td>0.024740</td>\n",
       "    </tr>\n",
       "    <tr>\n",
       "      <th>3</th>\n",
       "      <td>5</td>\n",
       "      <td>0.286056</td>\n",
       "      <td>0.092452</td>\n",
       "      <td>0.016297</td>\n",
       "      <td>0.013801</td>\n",
       "      <td>0.021564</td>\n",
       "      <td>0.019175</td>\n",
       "      <td>0.055892</td>\n",
       "      <td>0.016595</td>\n",
       "      <td>0.019593</td>\n",
       "      <td>0.020274</td>\n",
       "    </tr>\n",
       "    <tr>\n",
       "      <th>4</th>\n",
       "      <td>6</td>\n",
       "      <td>0.289517</td>\n",
       "      <td>0.103552</td>\n",
       "      <td>0.012164</td>\n",
       "      <td>0.010268</td>\n",
       "      <td>0.019648</td>\n",
       "      <td>0.015615</td>\n",
       "      <td>0.051656</td>\n",
       "      <td>0.013397</td>\n",
       "      <td>0.015524</td>\n",
       "      <td>0.016266</td>\n",
       "    </tr>\n",
       "  </tbody>\n",
       "</table>\n",
       "</div>"
      ],
      "text/plain": [
       "   candidates   pl_h_mR   pl_s_mR  range_10_h_mR  range_10_s_mR  aprv_h_mR  \\\n",
       "0           2  0.092200  0.092200       0.092200       0.092200   0.092200   \n",
       "1           3  0.263755  0.064070       0.030990       0.029666   0.033997   \n",
       "2           4  0.273363  0.072655       0.021260       0.018558   0.023538   \n",
       "3           5  0.286056  0.092452       0.016297       0.013801   0.021564   \n",
       "4           6  0.289517  0.103552       0.012164       0.010268   0.019648   \n",
       "\n",
       "   aprv_s_mR  IRV_h_mR  star_6_h_mR  star_6_s_mR   rp_h_mR  \n",
       "0   0.092200  0.092200     0.092200     0.092200  0.092200  \n",
       "1   0.037035  0.065145     0.035182     0.036580  0.035973  \n",
       "2   0.025712  0.059472     0.022813     0.025035  0.024740  \n",
       "3   0.019175  0.055892     0.016595     0.019593  0.020274  \n",
       "4   0.015615  0.051656     0.013397     0.015524  0.016266  "
      ]
     },
     "execution_count": 5,
     "metadata": {},
     "output_type": "execute_result"
    }
   ],
   "source": [
    "df = run_experiment(cs(config, 'candidates', [2, 3, 4, 5, 6]), trials=10000)\n",
    "df"
   ]
  },
  {
   "cell_type": "code",
   "execution_count": 6,
   "metadata": {},
   "outputs": [
    {
     "data": {
      "text/html": [
       "<pre>[0.739,\n",
       " 1.22,\n",
       " 2.04,\n",
       " 0]\n",
       "------------------\n",
       "type: 4 * ?float64</pre>"
      ],
      "text/plain": [
       "<Array [0.739, 1.22, 2.04, 0] type='4 * ?float64'>"
      ]
     },
     "metadata": {},
     "output_type": "display_data"
    },
    {
     "data": {
      "text/html": [
       "<pre>[[0],\n",
       " [0, 0],\n",
       " [0, 0, 0],\n",
       " [0, 0, 0, 0]]\n",
       "--------------------------------\n",
       "type: 4 * option[var * ?float64]</pre>"
      ],
      "text/plain": [
       "<Array [[0], [0, 0], [...], [0, 0, 0, 0]] type='4 * option[var * ?float64]'>"
      ]
     },
     "metadata": {},
     "output_type": "display_data"
    }
   ],
   "source": [
    "config_like_only = copy.deepcopy(config)\n",
    "config_like_only['candidates'] = 4\n",
    "config_like_only['considerations'] = yaml.safe_load(\n",
    "'''\n",
    "- Likability:\n",
    "    mean: 1.0\n",
    "'''\n",
    ")\n",
    "result = do_run(config_like_only, 5)\n",
    "display(result['cand_regret'][0])\n",
    "display(result['cov_matrix'][0])"
   ]
  },
  {
   "cell_type": "markdown",
   "metadata": {},
   "source": [
    "With likability as the only consideration, all voter sets of utilities are identical to each other. Variances and covariances are zero."
   ]
  },
  {
   "cell_type": "code",
   "execution_count": 10,
   "metadata": {},
   "outputs": [],
   "source": [
    "def get_corr_coeffs(result, trial_no):\n",
    "    covm = result['cov_matrix'][trial_no]\n",
    "    ncand = len(covm)\n",
    "    cc = np.eye(ncand, dtype=np.float64)\n",
    "    sigmas = []\n",
    "    for i in range(ncand):\n",
    "        sigmas.append(np.sqrt(covm[(i, i)]))\n",
    "    # print(sigmas)\n",
    "    for ix in range(ncand):\n",
    "        for iy in range(ix):\n",
    "            cc[(ix, iy)] = covm[(ix, iy)] / sigmas[ix] / sigmas[iy]\n",
    "    return cc"
   ]
  },
  {
   "cell_type": "code",
   "execution_count": 13,
   "metadata": {},
   "outputs": [
    {
     "name": "stderr",
     "output_type": "stream",
     "text": [
      "/tmp/ipykernel_600875/3163430169.py:11: RuntimeWarning: invalid value encountered in scalar divide\n",
      "  cc[(ix, iy)] = covm[(ix, iy)] / sigmas[ix] / sigmas[iy]\n"
     ]
    },
    {
     "data": {
      "text/plain": [
       "array([[ 1.,  0.,  0.,  0.],\n",
       "       [nan,  1.,  0.,  0.],\n",
       "       [nan, nan,  1.,  0.],\n",
       "       [nan, nan, nan,  1.]])"
      ]
     },
     "metadata": {},
     "output_type": "display_data"
    }
   ],
   "source": [
    "display(get_corr_coeffs(result, 0))"
   ]
  },
  {
   "cell_type": "code",
   "execution_count": 14,
   "metadata": {},
   "outputs": [
    {
     "data": {
      "text/plain": [
       "array([[ 1.        ,  0.        ,  0.        ,  0.        ],\n",
       "       [ 0.00268738,  1.        ,  0.        ,  0.        ],\n",
       "       [ 0.00172234, -0.00139973,  1.        ,  0.        ],\n",
       "       [-0.00171959,  0.00580155, -0.00432785,  1.        ]])"
      ]
     },
     "metadata": {},
     "output_type": "display_data"
    },
    {
     "data": {
      "text/plain": [
       "array([[ 1.00000000e+00,  0.00000000e+00,  0.00000000e+00,\n",
       "         0.00000000e+00],\n",
       "       [-2.03732485e-03,  1.00000000e+00,  0.00000000e+00,\n",
       "         0.00000000e+00],\n",
       "       [ 7.94856619e-03,  8.72417434e-04,  1.00000000e+00,\n",
       "         0.00000000e+00],\n",
       "       [ 5.62530531e-06,  2.96202197e-04, -1.73552066e-03,\n",
       "         1.00000000e+00]])"
      ]
     },
     "metadata": {},
     "output_type": "display_data"
    }
   ],
   "source": [
    "config_irr = copy.deepcopy(config)\n",
    "config_irr['candidates'] = 4\n",
    "config_irr['voters'] = 100001\n",
    "config_irr['considerations'] = yaml.safe_load(\n",
    "'''\n",
    "- Irrational:\n",
    "    sigma: 1.0\n",
    "    camps: 2\n",
    "    individualism_deg: 90\n",
    "'''\n",
    ")\n",
    "result = do_run(config_irr, 5)\n",
    "display(get_corr_coeffs(result, 0))\n",
    "display(get_corr_coeffs(result, 1))\n"
   ]
  },
  {
   "cell_type": "markdown",
   "metadata": {},
   "source": [
    "Good. Correlation coefficients are very small, because irrational voters (all independent) have utilities that are uncorrelated with those of other voters."
   ]
  },
  {
   "cell_type": "markdown",
   "metadata": {},
   "source": [
    "### This ended up being fodder for a unit test of the Irrational consideration"
   ]
  },
  {
   "cell_type": "code",
   "execution_count": 200,
   "metadata": {},
   "outputs": [
    {
     "data": {
      "text/plain": [
       "array([[0.3090016 , 2.09904798, 0.82317008, 3.13087807, 1.61064933,\n",
       "        2.01657254, 2.91759999, 1.55519431, 2.89235991, 2.97551052],\n",
       "       [2.24721985, 2.65914812, 1.86329343, 2.21673783, 0.84797068,\n",
       "        0.56396652, 0.44596168, 3.40639598, 0.65299382, 1.77379581],\n",
       "       [0.58539738, 1.22377722, 3.06071522, 1.3184892 , 0.48842566,\n",
       "        0.79741721, 2.61924207, 3.07438678, 1.22978133, 3.12792367],\n",
       "       [2.85872826, 0.52028883, 1.38963001, 0.35922687, 0.16900879,\n",
       "        1.34662276, 0.17156912, 1.73254542, 1.48895542, 1.27941031],\n",
       "       [0.78623712, 0.66519608, 1.30919134, 2.73176796, 1.99823116,\n",
       "        3.12736477, 3.38542127, 1.83569564, 3.25960743, 1.54455224]])"
      ]
     },
     "execution_count": 200,
     "metadata": {},
     "output_type": "execute_result"
    }
   ],
   "source": [
    "utilities = np.random.uniform(0., np.sqrt(12.), 50)\n",
    "utilities = np.reshape(utilities, newshape=(5, 10))\n",
    "utilities"
   ]
  },
  {
   "cell_type": "code",
   "execution_count": 201,
   "metadata": {},
   "outputs": [
    {
     "name": "stdout",
     "output_type": "stream",
     "text": [
      "[[0.3090016  2.24721985 0.58539738 2.85872826 0.78623712]\n",
      " [2.09904798 2.65914812 1.22377722 0.52028883 0.66519608]\n",
      " [0.82317008 1.86329343 3.06071522 1.38963001 1.30919134]\n",
      " [3.13087807 2.21673783 1.3184892  0.35922687 2.73176796]\n",
      " [1.61064933 0.84797068 0.48842566 0.16900879 1.99823116]\n",
      " [2.01657254 0.56396652 0.79741721 1.34662276 3.12736477]\n",
      " [2.91759999 0.44596168 2.61924207 0.17156912 3.38542127]\n",
      " [1.55519431 3.40639598 3.07438678 1.73254542 1.83569564]\n",
      " [2.89235991 0.65299382 1.22978133 1.48895542 3.25960743]\n",
      " [2.97551052 1.77379581 3.12792367 1.27941031 1.54455224]]\n"
     ]
    }
   ],
   "source": [
    "np.set_printoptions(threshold=100000)\n",
    "print(str(utilities.transpose()))"
   ]
  },
  {
   "cell_type": "code",
   "execution_count": 202,
   "metadata": {},
   "outputs": [
    {
     "data": {
      "text/plain": [
       "array([[ 0.94020538, -0.32073684,  0.16108757, -0.49611513,  0.62033183],\n",
       "       [-0.32073684,  1.01169877,  0.31368278,  0.27153381, -0.70086438],\n",
       "       [ 0.16108757,  0.31368278,  1.19057637, -0.00328159, -0.05275154],\n",
       "       [-0.49611513,  0.27153381, -0.00328159,  0.71388613, -0.31396175],\n",
       "       [ 0.62033183, -0.70086438, -0.05275154, -0.31396175,  1.02640331]])"
      ]
     },
     "execution_count": 202,
     "metadata": {},
     "output_type": "execute_result"
    }
   ],
   "source": [
    "np.cov(utilities)"
   ]
  },
  {
   "cell_type": "code",
   "execution_count": 220,
   "metadata": {},
   "outputs": [
    {
     "data": {
      "text/plain": [
       "array([[ 0.99333244, -0.00444264,  0.01690256,  0.0234099 , -0.03744667],\n",
       "       [-0.00444264,  1.01777285, -0.02395978, -0.02019903, -0.06810528],\n",
       "       [ 0.01690256, -0.02395978,  0.99728841, -0.08037311, -0.03790731],\n",
       "       [ 0.0234099 , -0.02019903, -0.08037311,  1.00854158,  0.02726133],\n",
       "       [-0.03744667, -0.06810528, -0.03790731,  0.02726133,  0.99367376]])"
      ]
     },
     "execution_count": 220,
     "metadata": {},
     "output_type": "execute_result"
    }
   ],
   "source": [
    "utilities = np.random.uniform(0., np.sqrt(12.), 5000)\n",
    "utilities = np.reshape(utilities, newshape=(5, 1000))\n",
    "np.cov(utilities)"
   ]
  },
  {
   "cell_type": "code",
   "execution_count": 11,
   "metadata": {},
   "outputs": [
    {
     "data": {
      "text/plain": [
       "array([[1.        , 0.        , 0.        , 0.        ],\n",
       "       [0.82319955, 1.        , 0.        , 0.        ],\n",
       "       [0.35638636, 0.78743431, 1.        , 0.        ],\n",
       "       [0.9370035 , 0.64582691, 0.13624312, 1.        ]])"
      ]
     },
     "metadata": {},
     "output_type": "display_data"
    },
    {
     "data": {
      "text/plain": [
       "array([[1.        , 0.        , 0.        , 0.        ],\n",
       "       [0.99373726, 1.        , 0.        , 0.        ],\n",
       "       [0.81509974, 0.87070626, 1.        , 0.        ],\n",
       "       [0.87723509, 0.8218506 , 0.467876  , 1.        ]])"
      ]
     },
     "metadata": {},
     "output_type": "display_data"
    }
   ],
   "source": [
    "config_issue = copy.deepcopy(config)\n",
    "config_issue['candidates'] = 4\n",
    "config_issue['voters'] = 100001\n",
    "config_issue['considerations'] = yaml.safe_load(\n",
    "'''\n",
    "- Issues:\n",
    "    - halfcsep: 1.0\n",
    "      halfvsep: 1.0\n",
    "      sigma: 1.0\n",
    "'''\n",
    ")\n",
    "result = do_run(config_issue, 5)\n",
    "display(get_corr_coeffs(result, 0))\n",
    "display(get_corr_coeffs(result, 1))\n",
    "# display(get_corr_coeffs(result, 2))\n",
    "# display(get_corr_coeffs(result, 3))"
   ]
  },
  {
   "cell_type": "markdown",
   "metadata": {},
   "source": [
    "When there's a political axis, voters are much more significantly correlated with each other."
   ]
  },
  {
   "cell_type": "code",
   "execution_count": 16,
   "metadata": {},
   "outputs": [
    {
     "data": {
      "text/plain": [
       "np.float64(1.4408)"
      ]
     },
     "execution_count": 16,
     "metadata": {},
     "output_type": "execute_result"
    }
   ],
   "source": [
    "config_new = copy.deepcopy(config)\n",
    "config_new['candidates'] = 6\n",
    "config_new['considerations'] = yaml.safe_load(\n",
    "'''\n",
    "- Irrational:\n",
    "    sigma: 1.0\n",
    "    camps: 11\n",
    "    individualism_deg: 20\n",
    "'''\n",
    ")\n",
    "result = do_run(config_new, 5000)\n",
    "np.mean(result['num_smith'])"
   ]
  },
  {
   "cell_type": "code",
   "execution_count": 17,
   "metadata": {},
   "outputs": [
    {
     "data": {
      "text/plain": [
       "['ideal_cand',\n",
       " 'cand_regret',\n",
       " 'Irrational',\n",
       " 'cov_matrix',\n",
       " 'num_smith',\n",
       " 'in_smith',\n",
       " 'methods']"
      ]
     },
     "metadata": {},
     "output_type": "display_data"
    }
   ],
   "source": [
    "display(result.fields)"
   ]
  },
  {
   "cell_type": "code",
   "execution_count": 19,
   "metadata": {},
   "outputs": [
    {
     "data": {
      "text/html": [
       "<div>\n",
       "<style scoped>\n",
       "    .dataframe tbody tr th:only-of-type {\n",
       "        vertical-align: middle;\n",
       "    }\n",
       "\n",
       "    .dataframe tbody tr th {\n",
       "        vertical-align: top;\n",
       "    }\n",
       "\n",
       "    .dataframe thead th {\n",
       "        text-align: right;\n",
       "    }\n",
       "</style>\n",
       "<table border=\"1\" class=\"dataframe\">\n",
       "  <thead>\n",
       "    <tr style=\"text-align: right;\">\n",
       "      <th></th>\n",
       "      <th>Irrational</th>\n",
       "      <th>avg_nsmith</th>\n",
       "      <th>pl_h_mR</th>\n",
       "      <th>pl_h_insm</th>\n",
       "      <th>pl_s_mR</th>\n",
       "      <th>pl_s_insm</th>\n",
       "      <th>range_10_h_mR</th>\n",
       "      <th>range_10_h_insm</th>\n",
       "      <th>range_10_s_mR</th>\n",
       "      <th>range_10_s_insm</th>\n",
       "      <th>...</th>\n",
       "      <th>aprv_s_mR</th>\n",
       "      <th>aprv_s_insm</th>\n",
       "      <th>IRV_h_mR</th>\n",
       "      <th>IRV_h_insm</th>\n",
       "      <th>star_6_h_mR</th>\n",
       "      <th>star_6_h_insm</th>\n",
       "      <th>star_6_s_mR</th>\n",
       "      <th>star_6_s_insm</th>\n",
       "      <th>rp_h_mR</th>\n",
       "      <th>rp_h_insm</th>\n",
       "    </tr>\n",
       "  </thead>\n",
       "  <tbody>\n",
       "    <tr>\n",
       "      <th>0</th>\n",
       "      <td>0.0</td>\n",
       "      <td>1.0965</td>\n",
       "      <td>0.424064</td>\n",
       "      <td>53.8</td>\n",
       "      <td>0.225163</td>\n",
       "      <td>72.05</td>\n",
       "      <td>0.038813</td>\n",
       "      <td>83.15</td>\n",
       "      <td>0.033466</td>\n",
       "      <td>87.90</td>\n",
       "      <td>...</td>\n",
       "      <td>0.060382</td>\n",
       "      <td>94.90</td>\n",
       "      <td>0.168867</td>\n",
       "      <td>75.80</td>\n",
       "      <td>0.052018</td>\n",
       "      <td>93.05</td>\n",
       "      <td>0.064300</td>\n",
       "      <td>97.75</td>\n",
       "      <td>0.071441</td>\n",
       "      <td>100.00</td>\n",
       "    </tr>\n",
       "    <tr>\n",
       "      <th>1</th>\n",
       "      <td>0.5</td>\n",
       "      <td>1.0375</td>\n",
       "      <td>0.387119</td>\n",
       "      <td>55.4</td>\n",
       "      <td>0.162038</td>\n",
       "      <td>77.70</td>\n",
       "      <td>0.024679</td>\n",
       "      <td>89.35</td>\n",
       "      <td>0.020236</td>\n",
       "      <td>93.05</td>\n",
       "      <td>...</td>\n",
       "      <td>0.028792</td>\n",
       "      <td>98.35</td>\n",
       "      <td>0.102386</td>\n",
       "      <td>84.05</td>\n",
       "      <td>0.024211</td>\n",
       "      <td>96.95</td>\n",
       "      <td>0.028388</td>\n",
       "      <td>99.10</td>\n",
       "      <td>0.029857</td>\n",
       "      <td>100.00</td>\n",
       "    </tr>\n",
       "    <tr>\n",
       "      <th>2</th>\n",
       "      <td>2.0</td>\n",
       "      <td>1.0545</td>\n",
       "      <td>0.127995</td>\n",
       "      <td>76.7</td>\n",
       "      <td>0.046447</td>\n",
       "      <td>92.90</td>\n",
       "      <td>0.011018</td>\n",
       "      <td>91.00</td>\n",
       "      <td>0.010087</td>\n",
       "      <td>94.75</td>\n",
       "      <td>...</td>\n",
       "      <td>0.020732</td>\n",
       "      <td>99.15</td>\n",
       "      <td>0.035061</td>\n",
       "      <td>95.05</td>\n",
       "      <td>0.016646</td>\n",
       "      <td>97.00</td>\n",
       "      <td>0.021499</td>\n",
       "      <td>99.65</td>\n",
       "      <td>0.020737</td>\n",
       "      <td>99.95</td>\n",
       "    </tr>\n",
       "    <tr>\n",
       "      <th>3</th>\n",
       "      <td>4.0</td>\n",
       "      <td>1.0985</td>\n",
       "      <td>0.138646</td>\n",
       "      <td>76.2</td>\n",
       "      <td>0.071293</td>\n",
       "      <td>92.55</td>\n",
       "      <td>0.016990</td>\n",
       "      <td>90.75</td>\n",
       "      <td>0.018584</td>\n",
       "      <td>94.80</td>\n",
       "      <td>...</td>\n",
       "      <td>0.039319</td>\n",
       "      <td>99.10</td>\n",
       "      <td>0.061531</td>\n",
       "      <td>94.55</td>\n",
       "      <td>0.033079</td>\n",
       "      <td>97.70</td>\n",
       "      <td>0.035984</td>\n",
       "      <td>99.60</td>\n",
       "      <td>0.036682</td>\n",
       "      <td>100.00</td>\n",
       "    </tr>\n",
       "    <tr>\n",
       "      <th>4</th>\n",
       "      <td>40.0</td>\n",
       "      <td>1.1400</td>\n",
       "      <td>0.176669</td>\n",
       "      <td>76.2</td>\n",
       "      <td>0.101690</td>\n",
       "      <td>91.65</td>\n",
       "      <td>0.018515</td>\n",
       "      <td>88.55</td>\n",
       "      <td>0.028991</td>\n",
       "      <td>93.75</td>\n",
       "      <td>...</td>\n",
       "      <td>0.060658</td>\n",
       "      <td>98.40</td>\n",
       "      <td>0.083979</td>\n",
       "      <td>94.50</td>\n",
       "      <td>0.045113</td>\n",
       "      <td>97.15</td>\n",
       "      <td>0.055601</td>\n",
       "      <td>99.70</td>\n",
       "      <td>0.050192</td>\n",
       "      <td>100.00</td>\n",
       "    </tr>\n",
       "  </tbody>\n",
       "</table>\n",
       "<p>5 rows × 22 columns</p>\n",
       "</div>"
      ],
      "text/plain": [
       "   Irrational  avg_nsmith   pl_h_mR  pl_h_insm   pl_s_mR  pl_s_insm  \\\n",
       "0         0.0      1.0965  0.424064       53.8  0.225163      72.05   \n",
       "1         0.5      1.0375  0.387119       55.4  0.162038      77.70   \n",
       "2         2.0      1.0545  0.127995       76.7  0.046447      92.90   \n",
       "3         4.0      1.0985  0.138646       76.2  0.071293      92.55   \n",
       "4        40.0      1.1400  0.176669       76.2  0.101690      91.65   \n",
       "\n",
       "   range_10_h_mR  range_10_h_insm  range_10_s_mR  range_10_s_insm  ...  \\\n",
       "0       0.038813            83.15       0.033466            87.90  ...   \n",
       "1       0.024679            89.35       0.020236            93.05  ...   \n",
       "2       0.011018            91.00       0.010087            94.75  ...   \n",
       "3       0.016990            90.75       0.018584            94.80  ...   \n",
       "4       0.018515            88.55       0.028991            93.75  ...   \n",
       "\n",
       "   aprv_s_mR  aprv_s_insm  IRV_h_mR  IRV_h_insm  star_6_h_mR  star_6_h_insm  \\\n",
       "0   0.060382        94.90  0.168867       75.80     0.052018          93.05   \n",
       "1   0.028792        98.35  0.102386       84.05     0.024211          96.95   \n",
       "2   0.020732        99.15  0.035061       95.05     0.016646          97.00   \n",
       "3   0.039319        99.10  0.061531       94.55     0.033079          97.70   \n",
       "4   0.060658        98.40  0.083979       94.50     0.045113          97.15   \n",
       "\n",
       "   star_6_s_mR  star_6_s_insm   rp_h_mR  rp_h_insm  \n",
       "0     0.064300          97.75  0.071441     100.00  \n",
       "1     0.028388          99.10  0.029857     100.00  \n",
       "2     0.021499          99.65  0.020737      99.95  \n",
       "3     0.035984          99.60  0.036682     100.00  \n",
       "4     0.055601          99.70  0.050192     100.00  \n",
       "\n",
       "[5 rows x 22 columns]"
      ]
     },
     "execution_count": 19,
     "metadata": {},
     "output_type": "execute_result"
    }
   ],
   "source": [
    "study_lib.run_experiment(\n",
    "    cs(config, 'considerations.1.Irrational.sigma', [0., 0.5, 2.0, 4.0, 40.0]),\n",
    "    2000,\n",
    "    sm=True,\n",
    ")"
   ]
  },
  {
   "cell_type": "code",
   "execution_count": 14,
   "metadata": {},
   "outputs": [
    {
     "data": {
      "text/html": [
       "<div>\n",
       "<style scoped>\n",
       "    .dataframe tbody tr th:only-of-type {\n",
       "        vertical-align: middle;\n",
       "    }\n",
       "\n",
       "    .dataframe tbody tr th {\n",
       "        vertical-align: top;\n",
       "    }\n",
       "\n",
       "    .dataframe thead th {\n",
       "        text-align: right;\n",
       "    }\n",
       "</style>\n",
       "<table border=\"1\" class=\"dataframe\">\n",
       "  <thead>\n",
       "    <tr style=\"text-align: right;\">\n",
       "      <th></th>\n",
       "      <th>1</th>\n",
       "      <th>avg_nsmith</th>\n",
       "      <th>pl_h_mR</th>\n",
       "      <th>pl_h_insm</th>\n",
       "      <th>pl_s_mR</th>\n",
       "      <th>pl_s_insm</th>\n",
       "      <th>range_10_h_mR</th>\n",
       "      <th>range_10_h_insm</th>\n",
       "      <th>range_10_s_mR</th>\n",
       "      <th>range_10_s_insm</th>\n",
       "      <th>...</th>\n",
       "      <th>aprv_s_mR</th>\n",
       "      <th>aprv_s_insm</th>\n",
       "      <th>IRV_h_mR</th>\n",
       "      <th>IRV_h_insm</th>\n",
       "      <th>star_6_h_mR</th>\n",
       "      <th>star_6_h_insm</th>\n",
       "      <th>star_6_s_mR</th>\n",
       "      <th>star_6_s_insm</th>\n",
       "      <th>rp_h_mR</th>\n",
       "      <th>rp_h_insm</th>\n",
       "    </tr>\n",
       "  </thead>\n",
       "  <tbody>\n",
       "    <tr>\n",
       "      <th>0</th>\n",
       "      <td>0.0</td>\n",
       "      <td>1.0000</td>\n",
       "      <td>1.052219</td>\n",
       "      <td>9.56</td>\n",
       "      <td>0.809012</td>\n",
       "      <td>15.88</td>\n",
       "      <td>0.071049</td>\n",
       "      <td>61.76</td>\n",
       "      <td>0.036228</td>\n",
       "      <td>74.40</td>\n",
       "      <td>...</td>\n",
       "      <td>0.017130</td>\n",
       "      <td>90.70</td>\n",
       "      <td>0.744674</td>\n",
       "      <td>12.60</td>\n",
       "      <td>0.044468</td>\n",
       "      <td>73.26</td>\n",
       "      <td>0.019828</td>\n",
       "      <td>87.36</td>\n",
       "      <td>0.005786</td>\n",
       "      <td>100.0</td>\n",
       "    </tr>\n",
       "    <tr>\n",
       "      <th>1</th>\n",
       "      <td>1.0</td>\n",
       "      <td>1.0152</td>\n",
       "      <td>0.829766</td>\n",
       "      <td>16.84</td>\n",
       "      <td>0.480676</td>\n",
       "      <td>29.38</td>\n",
       "      <td>0.048733</td>\n",
       "      <td>73.22</td>\n",
       "      <td>0.033903</td>\n",
       "      <td>82.62</td>\n",
       "      <td>...</td>\n",
       "      <td>0.031710</td>\n",
       "      <td>93.52</td>\n",
       "      <td>0.438564</td>\n",
       "      <td>26.80</td>\n",
       "      <td>0.029856</td>\n",
       "      <td>85.88</td>\n",
       "      <td>0.028929</td>\n",
       "      <td>94.86</td>\n",
       "      <td>0.028875</td>\n",
       "      <td>100.0</td>\n",
       "    </tr>\n",
       "    <tr>\n",
       "      <th>2</th>\n",
       "      <td>2.0</td>\n",
       "      <td>1.0182</td>\n",
       "      <td>0.454381</td>\n",
       "      <td>34.20</td>\n",
       "      <td>0.232263</td>\n",
       "      <td>50.58</td>\n",
       "      <td>0.024549</td>\n",
       "      <td>81.38</td>\n",
       "      <td>0.012496</td>\n",
       "      <td>89.64</td>\n",
       "      <td>...</td>\n",
       "      <td>0.013267</td>\n",
       "      <td>95.10</td>\n",
       "      <td>0.190063</td>\n",
       "      <td>52.74</td>\n",
       "      <td>0.010947</td>\n",
       "      <td>89.72</td>\n",
       "      <td>0.009665</td>\n",
       "      <td>97.20</td>\n",
       "      <td>0.009241</td>\n",
       "      <td>100.0</td>\n",
       "    </tr>\n",
       "    <tr>\n",
       "      <th>3</th>\n",
       "      <td>4.0</td>\n",
       "      <td>1.0052</td>\n",
       "      <td>0.400536</td>\n",
       "      <td>39.20</td>\n",
       "      <td>0.164843</td>\n",
       "      <td>60.00</td>\n",
       "      <td>0.027344</td>\n",
       "      <td>79.68</td>\n",
       "      <td>0.009675</td>\n",
       "      <td>89.68</td>\n",
       "      <td>...</td>\n",
       "      <td>0.012653</td>\n",
       "      <td>92.42</td>\n",
       "      <td>0.145253</td>\n",
       "      <td>59.40</td>\n",
       "      <td>0.009887</td>\n",
       "      <td>88.96</td>\n",
       "      <td>0.005549</td>\n",
       "      <td>96.66</td>\n",
       "      <td>0.002794</td>\n",
       "      <td>100.0</td>\n",
       "    </tr>\n",
       "  </tbody>\n",
       "</table>\n",
       "<p>4 rows × 22 columns</p>\n",
       "</div>"
      ],
      "text/plain": [
       "     1  avg_nsmith   pl_h_mR  pl_h_insm   pl_s_mR  pl_s_insm  range_10_h_mR  \\\n",
       "0  0.0      1.0000  1.052219       9.56  0.809012      15.88       0.071049   \n",
       "1  1.0      1.0152  0.829766      16.84  0.480676      29.38       0.048733   \n",
       "2  2.0      1.0182  0.454381      34.20  0.232263      50.58       0.024549   \n",
       "3  4.0      1.0052  0.400536      39.20  0.164843      60.00       0.027344   \n",
       "\n",
       "   range_10_h_insm  range_10_s_mR  range_10_s_insm  ...  aprv_s_mR  \\\n",
       "0            61.76       0.036228            74.40  ...   0.017130   \n",
       "1            73.22       0.033903            82.62  ...   0.031710   \n",
       "2            81.38       0.012496            89.64  ...   0.013267   \n",
       "3            79.68       0.009675            89.68  ...   0.012653   \n",
       "\n",
       "   aprv_s_insm  IRV_h_mR  IRV_h_insm  star_6_h_mR  star_6_h_insm  star_6_s_mR  \\\n",
       "0        90.70  0.744674       12.60     0.044468          73.26     0.019828   \n",
       "1        93.52  0.438564       26.80     0.029856          85.88     0.028929   \n",
       "2        95.10  0.190063       52.74     0.010947          89.72     0.009665   \n",
       "3        92.42  0.145253       59.40     0.009887          88.96     0.005549   \n",
       "\n",
       "   star_6_s_insm   rp_h_mR  rp_h_insm  \n",
       "0          87.36  0.005786      100.0  \n",
       "1          94.86  0.028875      100.0  \n",
       "2          97.20  0.009241      100.0  \n",
       "3          96.66  0.002794      100.0  \n",
       "\n",
       "[4 rows x 22 columns]"
      ]
     },
     "execution_count": 14,
     "metadata": {},
     "output_type": "execute_result"
    }
   ],
   "source": [
    "config_new = copy.deepcopy(config)\n",
    "config_new['candidates'] = 6\n",
    "config_new['considerations'] = yaml.safe_load(\n",
    "'''\n",
    "- Issues:\n",
    "  - sigma: 1.0\n",
    "    halfcsep: 1.5\n",
    "    halfvsep: 2.0\n",
    "  - sigma: 1.0\n",
    "    halfcsep: 0.0\n",
    "    halfvsep: 0.0\n",
    "'''\n",
    ")\n",
    "study_lib.run_experiment(\n",
    "    cs(config_new, 'considerations.0.Issues.1.sigma', [0., 1., 2., 4.0]),\n",
    "    5000,\n",
    "    sm=True\n",
    ")"
   ]
  },
  {
   "cell_type": "code",
   "execution_count": 34,
   "metadata": {},
   "outputs": [
    {
     "data": {
      "text/html": [
       "<div>\n",
       "<style scoped>\n",
       "    .dataframe tbody tr th:only-of-type {\n",
       "        vertical-align: middle;\n",
       "    }\n",
       "\n",
       "    .dataframe tbody tr th {\n",
       "        vertical-align: top;\n",
       "    }\n",
       "\n",
       "    .dataframe thead th {\n",
       "        text-align: right;\n",
       "    }\n",
       "</style>\n",
       "<table border=\"1\" class=\"dataframe\">\n",
       "  <thead>\n",
       "    <tr style=\"text-align: right;\">\n",
       "      <th></th>\n",
       "      <th>candidates</th>\n",
       "      <th>avg_nsmith</th>\n",
       "      <th>pl_h_mR</th>\n",
       "      <th>pl_h_insm</th>\n",
       "      <th>pl_s_mR</th>\n",
       "      <th>pl_s_insm</th>\n",
       "      <th>range_10_h_mR</th>\n",
       "      <th>range_10_h_insm</th>\n",
       "      <th>range_10_s_mR</th>\n",
       "      <th>range_10_s_insm</th>\n",
       "      <th>...</th>\n",
       "      <th>aprv_s_mR</th>\n",
       "      <th>aprv_s_insm</th>\n",
       "      <th>IRV_h_mR</th>\n",
       "      <th>IRV_h_insm</th>\n",
       "      <th>star_6_h_mR</th>\n",
       "      <th>star_6_h_insm</th>\n",
       "      <th>star_6_s_mR</th>\n",
       "      <th>star_6_s_insm</th>\n",
       "      <th>rp_h_mR</th>\n",
       "      <th>rp_h_insm</th>\n",
       "    </tr>\n",
       "  </thead>\n",
       "  <tbody>\n",
       "    <tr>\n",
       "      <th>0</th>\n",
       "      <td>2</td>\n",
       "      <td>1.0</td>\n",
       "      <td>0.030800</td>\n",
       "      <td>100.00</td>\n",
       "      <td>0.030800</td>\n",
       "      <td>100.00</td>\n",
       "      <td>0.030800</td>\n",
       "      <td>100.00</td>\n",
       "      <td>0.030800</td>\n",
       "      <td>100.00</td>\n",
       "      <td>...</td>\n",
       "      <td>0.030800</td>\n",
       "      <td>100.00</td>\n",
       "      <td>0.030800</td>\n",
       "      <td>100.00</td>\n",
       "      <td>0.030800</td>\n",
       "      <td>100.00</td>\n",
       "      <td>0.030800</td>\n",
       "      <td>100.00</td>\n",
       "      <td>0.030800</td>\n",
       "      <td>100.0</td>\n",
       "    </tr>\n",
       "    <tr>\n",
       "      <th>1</th>\n",
       "      <td>3</td>\n",
       "      <td>1.0</td>\n",
       "      <td>0.455597</td>\n",
       "      <td>59.98</td>\n",
       "      <td>0.160500</td>\n",
       "      <td>78.54</td>\n",
       "      <td>0.068346</td>\n",
       "      <td>79.50</td>\n",
       "      <td>0.034893</td>\n",
       "      <td>87.86</td>\n",
       "      <td>...</td>\n",
       "      <td>0.009013</td>\n",
       "      <td>100.00</td>\n",
       "      <td>0.160617</td>\n",
       "      <td>78.56</td>\n",
       "      <td>0.010529</td>\n",
       "      <td>96.78</td>\n",
       "      <td>0.009013</td>\n",
       "      <td>100.00</td>\n",
       "      <td>0.009013</td>\n",
       "      <td>100.0</td>\n",
       "    </tr>\n",
       "    <tr>\n",
       "      <th>2</th>\n",
       "      <td>4</td>\n",
       "      <td>1.0</td>\n",
       "      <td>0.553329</td>\n",
       "      <td>42.34</td>\n",
       "      <td>0.253669</td>\n",
       "      <td>64.52</td>\n",
       "      <td>0.060190</td>\n",
       "      <td>76.16</td>\n",
       "      <td>0.029717</td>\n",
       "      <td>85.44</td>\n",
       "      <td>...</td>\n",
       "      <td>0.014101</td>\n",
       "      <td>95.12</td>\n",
       "      <td>0.256093</td>\n",
       "      <td>59.84</td>\n",
       "      <td>0.016523</td>\n",
       "      <td>91.36</td>\n",
       "      <td>0.004900</td>\n",
       "      <td>98.16</td>\n",
       "      <td>0.004324</td>\n",
       "      <td>100.0</td>\n",
       "    </tr>\n",
       "    <tr>\n",
       "      <th>3</th>\n",
       "      <td>5</td>\n",
       "      <td>1.0</td>\n",
       "      <td>0.654372</td>\n",
       "      <td>29.16</td>\n",
       "      <td>0.310595</td>\n",
       "      <td>54.50</td>\n",
       "      <td>0.058084</td>\n",
       "      <td>72.78</td>\n",
       "      <td>0.029194</td>\n",
       "      <td>83.90</td>\n",
       "      <td>...</td>\n",
       "      <td>0.015745</td>\n",
       "      <td>92.78</td>\n",
       "      <td>0.313425</td>\n",
       "      <td>45.14</td>\n",
       "      <td>0.020709</td>\n",
       "      <td>86.36</td>\n",
       "      <td>0.006432</td>\n",
       "      <td>95.92</td>\n",
       "      <td>0.002428</td>\n",
       "      <td>100.0</td>\n",
       "    </tr>\n",
       "    <tr>\n",
       "      <th>4</th>\n",
       "      <td>6</td>\n",
       "      <td>1.0</td>\n",
       "      <td>0.714005</td>\n",
       "      <td>22.12</td>\n",
       "      <td>0.349851</td>\n",
       "      <td>47.80</td>\n",
       "      <td>0.048985</td>\n",
       "      <td>71.32</td>\n",
       "      <td>0.022467</td>\n",
       "      <td>82.64</td>\n",
       "      <td>...</td>\n",
       "      <td>0.015945</td>\n",
       "      <td>91.38</td>\n",
       "      <td>0.371302</td>\n",
       "      <td>34.04</td>\n",
       "      <td>0.023474</td>\n",
       "      <td>81.48</td>\n",
       "      <td>0.007746</td>\n",
       "      <td>93.08</td>\n",
       "      <td>0.001402</td>\n",
       "      <td>100.0</td>\n",
       "    </tr>\n",
       "    <tr>\n",
       "      <th>5</th>\n",
       "      <td>10</td>\n",
       "      <td>1.0</td>\n",
       "      <td>0.858374</td>\n",
       "      <td>11.00</td>\n",
       "      <td>0.434301</td>\n",
       "      <td>31.30</td>\n",
       "      <td>0.032225</td>\n",
       "      <td>64.44</td>\n",
       "      <td>0.014712</td>\n",
       "      <td>79.46</td>\n",
       "      <td>...</td>\n",
       "      <td>0.013650</td>\n",
       "      <td>86.66</td>\n",
       "      <td>0.445708</td>\n",
       "      <td>13.00</td>\n",
       "      <td>0.024886</td>\n",
       "      <td>68.78</td>\n",
       "      <td>0.010918</td>\n",
       "      <td>85.44</td>\n",
       "      <td>0.000713</td>\n",
       "      <td>100.0</td>\n",
       "    </tr>\n",
       "  </tbody>\n",
       "</table>\n",
       "<p>6 rows × 22 columns</p>\n",
       "</div>"
      ],
      "text/plain": [
       "   candidates  avg_nsmith   pl_h_mR  pl_h_insm   pl_s_mR  pl_s_insm  \\\n",
       "0           2         1.0  0.030800     100.00  0.030800     100.00   \n",
       "1           3         1.0  0.455597      59.98  0.160500      78.54   \n",
       "2           4         1.0  0.553329      42.34  0.253669      64.52   \n",
       "3           5         1.0  0.654372      29.16  0.310595      54.50   \n",
       "4           6         1.0  0.714005      22.12  0.349851      47.80   \n",
       "5          10         1.0  0.858374      11.00  0.434301      31.30   \n",
       "\n",
       "   range_10_h_mR  range_10_h_insm  range_10_s_mR  range_10_s_insm  ...  \\\n",
       "0       0.030800           100.00       0.030800           100.00  ...   \n",
       "1       0.068346            79.50       0.034893            87.86  ...   \n",
       "2       0.060190            76.16       0.029717            85.44  ...   \n",
       "3       0.058084            72.78       0.029194            83.90  ...   \n",
       "4       0.048985            71.32       0.022467            82.64  ...   \n",
       "5       0.032225            64.44       0.014712            79.46  ...   \n",
       "\n",
       "   aprv_s_mR  aprv_s_insm  IRV_h_mR  IRV_h_insm  star_6_h_mR  star_6_h_insm  \\\n",
       "0   0.030800       100.00  0.030800      100.00     0.030800         100.00   \n",
       "1   0.009013       100.00  0.160617       78.56     0.010529          96.78   \n",
       "2   0.014101        95.12  0.256093       59.84     0.016523          91.36   \n",
       "3   0.015745        92.78  0.313425       45.14     0.020709          86.36   \n",
       "4   0.015945        91.38  0.371302       34.04     0.023474          81.48   \n",
       "5   0.013650        86.66  0.445708       13.00     0.024886          68.78   \n",
       "\n",
       "   star_6_s_mR  star_6_s_insm   rp_h_mR  rp_h_insm  \n",
       "0     0.030800         100.00  0.030800      100.0  \n",
       "1     0.009013         100.00  0.009013      100.0  \n",
       "2     0.004900          98.16  0.004324      100.0  \n",
       "3     0.006432          95.92  0.002428      100.0  \n",
       "4     0.007746          93.08  0.001402      100.0  \n",
       "5     0.010918          85.44  0.000713      100.0  \n",
       "\n",
       "[6 rows x 22 columns]"
      ]
     },
     "execution_count": 34,
     "metadata": {},
     "output_type": "execute_result"
    }
   ],
   "source": [
    "config_new = copy.deepcopy(config)\n",
    "# config_new['candidates'] = 6\n",
    "config_new['considerations'] = yaml.safe_load(\n",
    "'''\n",
    "- Issues:\n",
    "  - sigma: 1.0\n",
    "    halfcsep: 1.5\n",
    "    halfvsep: 1.5\n",
    "'''\n",
    ")\n",
    "study_lib.run_experiment(\n",
    "    cs(config_new, 'candidates', [2, 3, 4, 5, 6, 10]),\n",
    "    5000,\n",
    "    sm=True\n",
    ")"
   ]
  },
  {
   "cell_type": "code",
   "execution_count": 4,
   "metadata": {},
   "outputs": [],
   "source": [
    "config_new = copy.deepcopy(config)\n",
    "config_new['candidates'] = 10\n",
    "config_new['considerations'] = [{\n",
    "    'Issues': [\n",
    "        dict(sigma=1.0, halfcsep=1.5, halfvsep=1.5),\n",
    "    ]\n",
    "}]\n",
    "rslt_10c = do_run(config_new, 10000)"
   ]
  },
  {
   "cell_type": "code",
   "execution_count": 5,
   "metadata": {},
   "outputs": [
    {
     "data": {
      "text/html": [
       "<pre>[[2, -2.19, -1.14, 1.64, 1.88, -1.37, 1.64, -1.33, -0.676, 1.27],\n",
       " [-0.172, 2.26, 1.88, 2.91, -0.742, -1.09, -2.12, 2.98, -1.67, 1.04]]\n",
       "---------------------------------------------------------------------\n",
       "type: 2 * option[var * ?float64]</pre>"
      ],
      "text/plain": [
       "<Array [[2, -2.19, ..., -0.676, 1.27], ...] type='2 * option[var * ?float64]'>"
      ]
     },
     "execution_count": 5,
     "metadata": {},
     "output_type": "execute_result"
    }
   ],
   "source": [
    "iss = ak.flatten(rslt_10c.issues, axis=2)\n",
    "iss[:2]"
   ]
  },
  {
   "cell_type": "code",
   "execution_count": 12,
   "metadata": {},
   "outputs": [],
   "source": [
    "pl_h_winner_iss = iss[np.arange(len(iss)), rslt_10c.methods.pl_h.winner]\n",
    "aprv_h_winner_iss = iss[np.arange(len(iss)), rslt_10c.methods.aprv_h.winner]\n",
    "#all_iss = ak.ravel(rslt_10c.issues)\n",
    "all_iss = rslt_10c.issues[:,0,0]"
   ]
  },
  {
   "cell_type": "code",
   "execution_count": 7,
   "metadata": {},
   "outputs": [
    {
     "data": {
      "text/html": [
       "<pre>[[[2], [-2.19], [-1.14], [1.64], ..., [1.64], [-1.33], [-0.676], [1.27]],\n",
       " [[-0.172], [2.26], [1.88], [2.91], ..., [-2.12], [2.98], [-1.67], [1.04]],\n",
       " [[-0.966], [1.88], [0.971], [-2.78], ..., [-1.37], [-0.584], [2.72], [3.85]],\n",
       " [[1.72], [-1.88], [1.27], [-1.78], ..., [1.3], [1.31], [-0.992], [-1.1]],\n",
       " [[1.32], [2.93], [0.242], [1.91], ..., [-2.2], [-0.382], [-1.15], [1.06]],\n",
       " [[1.02], [1.93], [2.94], [0.974], ..., [-2.91], [-0.512], [0.303], [0.247]],\n",
       " [[0.639], [-2.32], [3.08], [-1.27], ..., [2.76], [-1.54], [-0.735], [1.6]],\n",
       " [[-2], [-0.577], [-0.942], [-0.506], ..., [0.399], [2.62], [2.99], [-0.281]],\n",
       " [[1.15], [-3.18], [0.528], [-1.66], ..., [0.0197], [0.446], [1.92], [1.28]],\n",
       " [[-0.477], [1.22], [2.81], [2.38], ..., [-3.14], [2.57], [2.08], [0.303]],\n",
       " ...,\n",
       " [[-2.39], [2.31], [0.472], [1.51], ..., [-0.334], [2.4], [0.894], [1.03]],\n",
       " [[-2.61], [2], [-2.25], [0.279], ..., [-0.613], [-0.573], [0.758], [-1.01]],\n",
       " [[0.416], [0.124], [-2.14], [0.101], ..., [1.04], [-1.98], [2.04], [0.971]],\n",
       " [[1.75], [2.29], [-0.813], [0.116], ..., [-1.82], [-1.55], [-0.945], [-2.2]],\n",
       " [[-1.94], [-1.7], [2.28], [-0.0895], ..., [2.62], [-2.35], [-2.22], [-1.1]],\n",
       " [[2.47], [-2.15], [-0.239], [-0.916], ..., [-0.696], [1.33], [-1.21], [1.94]],\n",
       " [[-1.15], [-1.49], [1.05], [0.668], ..., [-1.01], [0.789], [1.52], [-2.89]],\n",
       " [[1.5], [-1.09], [2.84], [2.93], ..., [-0.519], [0.564], [1.21], [1.77]],\n",
       " [[0.779], [-1.27], [-0.367], [-1.81], ..., [-1.29], [-1.53], [0.209], [1.61]]]\n",
       "-------------------------------------------------------------------------------\n",
       "type: 10000 * option[10 * option[1 * ?float64]]</pre>"
      ],
      "text/plain": [
       "<Array [[[2], [-2.19], ..., [1.27]], ...] type='10000 * option[10 * option[...'>"
      ]
     },
     "execution_count": 7,
     "metadata": {},
     "output_type": "execute_result"
    }
   ],
   "source": [
    "rslt_10c.issues"
   ]
  },
  {
   "cell_type": "code",
   "execution_count": 13,
   "metadata": {},
   "outputs": [
    {
     "data": {
      "text/plain": [
       "<seaborn.axisgrid.FacetGrid at 0x7561f07e5700>"
      ]
     },
     "execution_count": 13,
     "metadata": {},
     "output_type": "execute_result"
    },
    {
     "data": {
      "image/png": "[encoded data removed]",
      "text/plain": [
       "<Figure size 597.25x500 with 1 Axes>"
      ]
     },
     "metadata": {},
     "output_type": "display_data"
    }
   ],
   "source": [
    "sns.displot({'all':all_iss, 'pl_h':pl_h_winner_iss, 'aprv_h':aprv_h_winner_iss})"
   ]
  },
  {
   "cell_type": "code",
   "execution_count": 11,
   "metadata": {},
   "outputs": [
    {
     "data": {
      "text/plain": [
       "['pl_h',\n",
       " 'pl_s',\n",
       " 'range_10_h',\n",
       " 'range_10_s',\n",
       " 'aprv_h',\n",
       " 'aprv_s',\n",
       " 'IRV_h',\n",
       " 'star_6_h',\n",
       " 'star_6_s',\n",
       " 'rp_h']"
      ]
     },
     "execution_count": 11,
     "metadata": {},
     "output_type": "execute_result"
    }
   ],
   "source": [
    "rslt_10c.methods.fields"
   ]
  },
  {
   "cell_type": "code",
   "execution_count": 9,
   "metadata": {},
   "outputs": [
    {
     "data": {
      "text/plain": [
       "<seaborn.axisgrid.FacetGrid at 0x7561f0a46570>"
      ]
     },
     "execution_count": 9,
     "metadata": {},
     "output_type": "execute_result"
    },
    {
     "data": {
      "image/png": "[encoded data removed]",
      "text/plain": [
       "<Figure size 500x500 with 1 Axes>"
      ]
     },
     "metadata": {},
     "output_type": "display_data"
    }
   ],
   "source": [
    "sns.displot(ak.ravel(rslt_10c.issues))"
   ]
  },
  {
   "cell_type": "code",
   "execution_count": 36,
   "metadata": {},
   "outputs": [],
   "source": [
    "rp_h_winner_iss = iss[np.arange(len(iss)), rslt_10c.methods.rp_h.winner]\n",
    "IRV_h_winner_iss = iss[np.arange(len(iss)), rslt_10c.methods.IRV_h.winner]"
   ]
  },
  {
   "cell_type": "code",
   "execution_count": 37,
   "metadata": {},
   "outputs": [
    {
     "data": {
      "text/plain": [
       "<seaborn.axisgrid.FacetGrid at 0x7ae0add26f30>"
      ]
     },
     "execution_count": 37,
     "metadata": {},
     "output_type": "execute_result"
    },
    {
     "data": {
      "image/png": "[encoded data removed]",
      "text/plain": [
       "<Figure size 578.5x500 with 1 Axes>"
      ]
     },
     "metadata": {},
     "output_type": "display_data"
    }
   ],
   "source": [
    "sns.displot({'all':all_iss, 'pl_h':pl_h_winner_iss, 'IRV':IRV_h_winner_iss, 'RP':rp_h_winner_iss})"
   ]
  },
  {
   "cell_type": "code",
   "execution_count": 41,
   "metadata": {},
   "outputs": [],
   "source": [
    "config_new = copy.deepcopy(config)\n",
    "config_new['candidates'] = 2\n",
    "config_new['considerations'] = [{\n",
    "    'Issues': [\n",
    "        dict(sigma=1.0, halfcsep=1.5, halfvsep=1.5),\n",
    "    ]\n",
    "}]\n",
    "rslt_2c = do_run(config_new, 100000)"
   ]
  },
  {
   "cell_type": "code",
   "execution_count": 48,
   "metadata": {},
   "outputs": [
    {
     "data": {
      "text/plain": [
       "<seaborn.axisgrid.FacetGrid at 0x7ae099ff6300>"
      ]
     },
     "execution_count": 48,
     "metadata": {},
     "output_type": "execute_result"
    },
    {
     "data": {
      "image/png": "[encoded data removed]",
      "text/plain": [
       "<Figure size 578.5x500 with 1 Axes>"
      ]
     },
     "metadata": {},
     "output_type": "display_data"
    },
    {
     "data": {
      "image/png": "[encoded data removed]",
      "text/plain": [
       "<Figure size 585.25x500 with 1 Axes>"
      ]
     },
     "metadata": {},
     "output_type": "display_data"
    }
   ],
   "source": [
    "rslt = rslt_2c\n",
    "iss = ak.flatten(rslt.issues, axis=2)\n",
    "all_iss = rslt.issues[:,0,0]\n",
    "pl_h_winner_iss = iss[np.arange(len(iss)), rslt.methods.pl_h.winner]\n",
    "rp_h_winner_iss = iss[np.arange(len(iss)), rslt.methods.rp_h.winner]\n",
    "IRV_h_winner_iss = iss[np.arange(len(iss)), rslt.methods.IRV_h.winner]\n",
    "rp_h_winner_star = iss[np.arange(len(iss)), rslt.methods.star_6_h.winner]\n",
    "sns.displot({'all':all_iss, 'pl_h':pl_h_winner_iss})\n",
    "sns.displot({'pl_h':pl_h_winner_iss, 'IRV':IRV_h_winner_iss, 'RP':rp_h_winner_iss, 'STAR':rp_h_winner_star})"
   ]
  },
  {
   "cell_type": "code",
   "execution_count": 7,
   "metadata": {},
   "outputs": [],
   "source": [
    "config_new = copy.deepcopy(config)\n",
    "config_new['candidates'] = 3\n",
    "config_new['considerations'] = [{\n",
    "    'Issues': [\n",
    "        dict(sigma=1.0, halfcsep=1.5, halfvsep=1.5),\n",
    "    ]\n",
    "}]\n",
    "rslt_3c = do_run(config_new, 100000)"
   ]
  },
  {
   "cell_type": "code",
   "execution_count": 8,
   "metadata": {},
   "outputs": [
    {
     "data": {
      "text/plain": [
       "<seaborn.axisgrid.FacetGrid at 0x7c7dcf962060>"
      ]
     },
     "execution_count": 8,
     "metadata": {},
     "output_type": "execute_result"
    },
    {
     "data": {
      "image/png": "[encoded data removed]",
      "text/plain": [
       "<Figure size 578.5x500 with 1 Axes>"
      ]
     },
     "metadata": {},
     "output_type": "display_data"
    },
    {
     "data": {
      "image/png": "[encoded data removed]",
      "text/plain": [
       "<Figure size 578.5x500 with 1 Axes>"
      ]
     },
     "metadata": {},
     "output_type": "display_data"
    }
   ],
   "source": [
    "rslt = rslt_3c\n",
    "iss = ak.flatten(rslt.issues, axis=2)\n",
    "all_iss = rslt.issues[:,0,0]\n",
    "pl_h_winner_iss = iss[np.arange(len(iss)), rslt.methods.pl_h.winner]\n",
    "rp_h_winner_iss = iss[np.arange(len(iss)), rslt.methods.rp_h.winner]\n",
    "IRV_h_winner_iss = iss[np.arange(len(iss)), rslt.methods.IRV_h.winner]\n",
    "rp_h_winner_star = iss[np.arange(len(iss)), rslt.methods.star_6_h.winner]\n",
    "sns.displot({'all':all_iss, 'pl_h':pl_h_winner_iss}, bins=50)\n",
    "sns.displot({'pl_h':pl_h_winner_iss, 'IRV':IRV_h_winner_iss, 'RP':rp_h_winner_iss}, bins=50)"
   ]
  },
  {
   "cell_type": "code",
   "execution_count": 18,
   "metadata": {},
   "outputs": [],
   "source": [
    "config_new = copy.deepcopy(config)\n",
    "config_new['candidates'] = 6\n",
    "config_new['considerations'] = [{\n",
    "    'Issues': [\n",
    "        dict(sigma=1.0, halfcsep=1.0, halfvsep=1.0),\n",
    "    ]\n",
    "}]\n",
    "rslt_5cg = do_run(config_new, 10000)"
   ]
  },
  {
   "cell_type": "code",
   "execution_count": 7,
   "metadata": {},
   "outputs": [
    {
     "ename": "NameError",
     "evalue": "name 'rslt_5cg' is not defined",
     "output_type": "error",
     "traceback": [
      "\u001b[0;31m---------------------------------------------------------------------------\u001b[0m",
      "\u001b[0;31mNameError\u001b[0m                                 Traceback (most recent call last)",
      "Cell \u001b[0;32mIn[7], line 1\u001b[0m\n\u001b[0;32m----> 1\u001b[0m rslt \u001b[38;5;241m=\u001b[39m \u001b[43mrslt_5cg\u001b[49m\n\u001b[1;32m      2\u001b[0m iss \u001b[38;5;241m=\u001b[39m ak\u001b[38;5;241m.\u001b[39mflatten(rslt\u001b[38;5;241m.\u001b[39missues, axis\u001b[38;5;241m=\u001b[39m\u001b[38;5;241m2\u001b[39m)\n\u001b[1;32m      3\u001b[0m all_iss \u001b[38;5;241m=\u001b[39m rslt\u001b[38;5;241m.\u001b[39missues[:,\u001b[38;5;241m0\u001b[39m,\u001b[38;5;241m0\u001b[39m]\n",
      "\u001b[0;31mNameError\u001b[0m: name 'rslt_5cg' is not defined"
     ]
    }
   ],
   "source": [
    "rslt = rslt_5cg\n",
    "iss = ak.flatten(rslt.issues, axis=2)\n",
    "all_iss = rslt.issues[:,0,0]\n",
    "pl_h_winner_iss = iss[np.arange(len(iss)), rslt.methods.pl_h.winner]\n",
    "pl_s_winner_iss = iss[np.arange(len(iss)), rslt.methods.pl_s.winner]\n",
    "rp_h_winner_iss = iss[np.arange(len(iss)), rslt.methods.rp_h.winner]\n",
    "IRV_h_winner_iss = iss[np.arange(len(iss)), rslt.methods.IRV_h.winner]\n",
    "rp_h_winner_star = iss[np.arange(len(iss)), rslt.methods.star_6_h.winner]\n",
    "sns.displot({'all':all_iss, 'pl_h':pl_h_winner_iss, 'pl_s':pl_s_winner_iss}, bins=50)\n",
    "sns.displot({'pl_s':pl_h_winner_iss, 'IRV':IRV_h_winner_iss, 'RP':rp_h_winner_iss}, bins=50)"
   ]
  },
  {
   "cell_type": "code",
   "execution_count": 15,
   "metadata": {},
   "outputs": [],
   "source": [
    "config_new = copy.deepcopy(config)\n",
    "config_new['candidates'] = 5\n",
    "config_new['considerations'] = [{\n",
    "    'Issues': [\n",
    "        dict(sigma=1.0/np.sqrt(3.), halfcsep=0.0, uniform=True),\n",
    "    ]\n",
    "}]\n",
    "rslt_5cu = do_run(config_new, 100000)"
   ]
  },
  {
   "cell_type": "code",
   "execution_count": 31,
   "metadata": {},
   "outputs": [
    {
     "data": {
      "text/plain": [
       "Text(0, 0.5, 'Simulated election winner (count)')"
      ]
     },
     "execution_count": 31,
     "metadata": {},
     "output_type": "execute_result"
    },
    {
     "data": {
      "image/png": "[encoded data removed]",
      "text/plain": [
       "<Figure size 640x480 with 1 Axes>"
      ]
     },
     "metadata": {},
     "output_type": "display_data"
    }
   ],
   "source": [
    "rslt = rslt_5cu\n",
    "iss = ak.flatten(rslt.issues, axis=2)\n",
    "all_iss = rslt.issues[:,0,0]\n",
    "pl_h_winner_iss = iss[np.arange(len(iss)), rslt.methods.pl_h.winner]\n",
    "pl_s_winner_iss = iss[np.arange(len(iss)), rslt.methods.pl_s.winner]\n",
    "rp_h_winner_iss = iss[np.arange(len(iss)), rslt.methods.rp_h.winner]\n",
    "IRV_h_winner_iss = iss[np.arange(len(iss)), rslt.methods.IRV_h.winner]\n",
    "star_h_winner_iss = iss[np.arange(len(iss)), rslt.methods.star_6_h.winner]\n",
    "g = sns.histplot({'random':all_iss, 'Plurality Honest':pl_h_winner_iss, 'Plurality Strategic':pl_s_winner_iss}, bins=50)\n",
    "# plt.legend(loc='center right', title='Method')\n",
    "sns.move_legend(g, \"upper right\", title='Methods')\n",
    "plt.xlabel('Abstract political axis')\n",
    "plt.ylabel('Simulated election winner (count)')\n",
    "# sns.histplot({'Plurality Honest':pl_h_winner_iss, 'Instant Runoff':IRV_h_winner_iss, 'RP':rp_h_winner_iss}, bins=50)\n",
    "#sns.move_legend(plt.gca(), \"upper right\")"
   ]
  },
  {
   "cell_type": "code",
   "execution_count": null,
   "metadata": {},
   "outputs": [],
   "source": [
    "sns.histplot({\n",
    "    'Plurality Honest':pl_h_winner_iss,\n",
    "    'Instant Runoff':IRV_h_winner_iss,\n",
    "    'Rnkd Pairs':rp_h_winner_iss,\n",
    "    'STAR':star_h_winner_iss\n",
    "    }, bins=50)\n",
    "sns.move_legend(g, \"upper right\", title='Methods')\n",
    "plt.xlabel('Abstract political axis')\n",
    "plt.ylabel('Simulated election winner (count)')"
   ]
  }
 ],
 "metadata": {
  "kernelspec": {
   "display_name": "env",
   "language": "python",
   "name": "python3"
  },
  "language_info": {
   "codemirror_mode": {
    "name": "ipython",
    "version": 3
   },
   "file_extension": ".py",
   "mimetype": "text/x-python",
   "name": "python",
   "nbconvert_exporter": "python",
   "pygments_lexer": "ipython3",
   "version": "3.12.6"
  }
 },
 "nbformat": 4,
 "nbformat_minor": 2
}
